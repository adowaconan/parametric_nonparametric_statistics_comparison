{
 "cells": [
  {
   "cell_type": "code",
   "execution_count": 101,
   "metadata": {},
   "outputs": [],
   "source": [
    "import numpy as np\n",
    "from sklearn import linear_model\n",
    "import matplotlib.pyplot as plt\n",
    "%matplotlib inline\n",
    "import seaborn as sns\n",
    "import pandas as pd"
   ]
  },
  {
   "cell_type": "code",
   "execution_count": 102,
   "metadata": {},
   "outputs": [],
   "source": [
    "distribution_m = (4,1.2)\n",
    "distribution_noise = (3,1.1)\n",
    "distribution_experiment_noise = (0,1)\n",
    "n_subjects = 20 # subjects\n",
    "n_trials = int(100) # number of trials per subject\n",
    "responses = (0.5,2)"
   ]
  },
  {
   "cell_type": "code",
   "execution_count": 103,
   "metadata": {},
   "outputs": [],
   "source": [
    "results = {}\n",
    "labels = {}\n",
    "for n in range(n_subjects):\n",
    "    # for each trial, there is internel noise contributes to the response\n",
    "    internal_noise = np.random.normal(loc=distribution_noise[0],scale=distribution_noise[1],size=n_trials)\n",
    "    # for each trial, there is a \"m\" drew from a N(4,1.2) distribution\n",
    "    internal_m = np.random.normal(loc=distribution_m[0],scale=distribution_m[1],size=n_trials)\n",
    "    # subject responses is a binomial distribution\n",
    "    subject_responses = np.random.choice([-1,1],size=n_trials,p=[responses[0],responses[0]])\n",
    "    # there exists some fixed experimental noise for all the subjects drew from a unit normal distribution\n",
    "    noise = np.random.normal(loc=distribution_experiment_noise[0],scale=distribution_experiment_noise[1],size=n_trials)\n",
    "    # since the formula: mx + b = y, where x is the measure, b is the internal noise, and y is the response,\n",
    "    # the inverted measure simulation is: (y - b) / m + experimental noise\n",
    "    measures = (subject_responses - internal_noise)/internal_m + noise\n",
    "    results[n] = measures\n",
    "    labels[n] = subject_responses"
   ]
  },
  {
   "cell_type": "markdown",
   "metadata": {},
   "source": [
    "# fit a model for each subject and then plot the scores of them"
   ]
  },
  {
   "cell_type": "code",
   "execution_count": 104,
   "metadata": {},
   "outputs": [],
   "source": [
    "from sklearn.model_selection import StratifiedKFold,cross_val_score"
   ]
  },
  {
   "cell_type": "code",
   "execution_count": 105,
   "metadata": {},
   "outputs": [],
   "source": [
    "result_scores = []\n",
    "for n in range(n_subjects):\n",
    "    model = linear_model.LogisticRegression(class_weight='balanced',random_state=12345,max_iter=int(1e5))\n",
    "    cv = StratifiedKFold(n_splits=5,shuffle=True,random_state=12345)\n",
    "    scores = cross_val_score(model,results[n].reshape(-1,1),labels[n],cv=cv,scoring='roc_auc',)\n",
    "    result_scores.append(scores)\n",
    "result_scores = np.array(result_scores)\n",
    "result_scores = pd.DataFrame(np.array([result_scores.flatten(),np.repeat(np.arange(n_subjects),5)]).T,\n",
    "                            columns=['scores','subjects'])\n",
    "result_scores['subjects'] = result_scores['subjects'].astype(int)"
   ]
  },
  {
   "cell_type": "code",
   "execution_count": 106,
   "metadata": {},
   "outputs": [
    {
     "data": {
      "text/html": [
       "<div>\n",
       "<style scoped>\n",
       "    .dataframe tbody tr th:only-of-type {\n",
       "        vertical-align: middle;\n",
       "    }\n",
       "\n",
       "    .dataframe tbody tr th {\n",
       "        vertical-align: top;\n",
       "    }\n",
       "\n",
       "    .dataframe thead tr th {\n",
       "        text-align: left;\n",
       "    }\n",
       "\n",
       "    .dataframe thead tr:last-of-type th {\n",
       "        text-align: right;\n",
       "    }\n",
       "</style>\n",
       "<table border=\"1\" class=\"dataframe\">\n",
       "  <thead>\n",
       "    <tr>\n",
       "      <th></th>\n",
       "      <th colspan=\"8\" halign=\"left\">scores</th>\n",
       "    </tr>\n",
       "    <tr>\n",
       "      <th></th>\n",
       "      <th>count</th>\n",
       "      <th>mean</th>\n",
       "      <th>std</th>\n",
       "      <th>min</th>\n",
       "      <th>25%</th>\n",
       "      <th>50%</th>\n",
       "      <th>75%</th>\n",
       "      <th>max</th>\n",
       "    </tr>\n",
       "    <tr>\n",
       "      <th>subjects</th>\n",
       "      <th></th>\n",
       "      <th></th>\n",
       "      <th></th>\n",
       "      <th></th>\n",
       "      <th></th>\n",
       "      <th></th>\n",
       "      <th></th>\n",
       "      <th></th>\n",
       "    </tr>\n",
       "  </thead>\n",
       "  <tbody>\n",
       "    <tr>\n",
       "      <th>0</th>\n",
       "      <td>5.0</td>\n",
       "      <td>0.650000</td>\n",
       "      <td>0.036056</td>\n",
       "      <td>0.600000</td>\n",
       "      <td>0.640000</td>\n",
       "      <td>0.650000</td>\n",
       "      <td>0.660000</td>\n",
       "      <td>0.700000</td>\n",
       "    </tr>\n",
       "    <tr>\n",
       "      <th>1</th>\n",
       "      <td>5.0</td>\n",
       "      <td>0.563596</td>\n",
       "      <td>0.162300</td>\n",
       "      <td>0.409091</td>\n",
       "      <td>0.460000</td>\n",
       "      <td>0.488889</td>\n",
       "      <td>0.660000</td>\n",
       "      <td>0.800000</td>\n",
       "    </tr>\n",
       "    <tr>\n",
       "      <th>2</th>\n",
       "      <td>5.0</td>\n",
       "      <td>0.711111</td>\n",
       "      <td>0.085292</td>\n",
       "      <td>0.595960</td>\n",
       "      <td>0.646465</td>\n",
       "      <td>0.747475</td>\n",
       "      <td>0.777778</td>\n",
       "      <td>0.787879</td>\n",
       "    </tr>\n",
       "    <tr>\n",
       "      <th>3</th>\n",
       "      <td>5.0</td>\n",
       "      <td>0.657172</td>\n",
       "      <td>0.143031</td>\n",
       "      <td>0.511111</td>\n",
       "      <td>0.515152</td>\n",
       "      <td>0.677778</td>\n",
       "      <td>0.745455</td>\n",
       "      <td>0.836364</td>\n",
       "    </tr>\n",
       "    <tr>\n",
       "      <th>4</th>\n",
       "      <td>5.0</td>\n",
       "      <td>0.446141</td>\n",
       "      <td>0.151034</td>\n",
       "      <td>0.281818</td>\n",
       "      <td>0.350000</td>\n",
       "      <td>0.388889</td>\n",
       "      <td>0.580000</td>\n",
       "      <td>0.630000</td>\n",
       "    </tr>\n",
       "    <tr>\n",
       "      <th>5</th>\n",
       "      <td>5.0</td>\n",
       "      <td>0.628872</td>\n",
       "      <td>0.217203</td>\n",
       "      <td>0.458333</td>\n",
       "      <td>0.462963</td>\n",
       "      <td>0.511364</td>\n",
       "      <td>0.768519</td>\n",
       "      <td>0.943182</td>\n",
       "    </tr>\n",
       "    <tr>\n",
       "      <th>6</th>\n",
       "      <td>5.0</td>\n",
       "      <td>0.678000</td>\n",
       "      <td>0.117558</td>\n",
       "      <td>0.520000</td>\n",
       "      <td>0.640000</td>\n",
       "      <td>0.640000</td>\n",
       "      <td>0.790000</td>\n",
       "      <td>0.800000</td>\n",
       "    </tr>\n",
       "    <tr>\n",
       "      <th>7</th>\n",
       "      <td>5.0</td>\n",
       "      <td>0.628283</td>\n",
       "      <td>0.049690</td>\n",
       "      <td>0.565657</td>\n",
       "      <td>0.595960</td>\n",
       "      <td>0.626263</td>\n",
       "      <td>0.666667</td>\n",
       "      <td>0.686869</td>\n",
       "    </tr>\n",
       "    <tr>\n",
       "      <th>8</th>\n",
       "      <td>5.0</td>\n",
       "      <td>0.546020</td>\n",
       "      <td>0.094183</td>\n",
       "      <td>0.418182</td>\n",
       "      <td>0.520000</td>\n",
       "      <td>0.536364</td>\n",
       "      <td>0.577778</td>\n",
       "      <td>0.677778</td>\n",
       "    </tr>\n",
       "    <tr>\n",
       "      <th>9</th>\n",
       "      <td>5.0</td>\n",
       "      <td>0.444000</td>\n",
       "      <td>0.105972</td>\n",
       "      <td>0.340000</td>\n",
       "      <td>0.350000</td>\n",
       "      <td>0.460000</td>\n",
       "      <td>0.470000</td>\n",
       "      <td>0.600000</td>\n",
       "    </tr>\n",
       "    <tr>\n",
       "      <th>10</th>\n",
       "      <td>5.0</td>\n",
       "      <td>0.718768</td>\n",
       "      <td>0.091461</td>\n",
       "      <td>0.572727</td>\n",
       "      <td>0.711111</td>\n",
       "      <td>0.730000</td>\n",
       "      <td>0.760000</td>\n",
       "      <td>0.820000</td>\n",
       "    </tr>\n",
       "    <tr>\n",
       "      <th>11</th>\n",
       "      <td>5.0</td>\n",
       "      <td>0.674000</td>\n",
       "      <td>0.059414</td>\n",
       "      <td>0.610000</td>\n",
       "      <td>0.630000</td>\n",
       "      <td>0.660000</td>\n",
       "      <td>0.720000</td>\n",
       "      <td>0.750000</td>\n",
       "    </tr>\n",
       "    <tr>\n",
       "      <th>12</th>\n",
       "      <td>5.0</td>\n",
       "      <td>0.675152</td>\n",
       "      <td>0.221614</td>\n",
       "      <td>0.300000</td>\n",
       "      <td>0.676768</td>\n",
       "      <td>0.722222</td>\n",
       "      <td>0.828283</td>\n",
       "      <td>0.848485</td>\n",
       "    </tr>\n",
       "    <tr>\n",
       "      <th>13</th>\n",
       "      <td>5.0</td>\n",
       "      <td>0.536768</td>\n",
       "      <td>0.059410</td>\n",
       "      <td>0.466667</td>\n",
       "      <td>0.500000</td>\n",
       "      <td>0.522222</td>\n",
       "      <td>0.585859</td>\n",
       "      <td>0.609091</td>\n",
       "    </tr>\n",
       "    <tr>\n",
       "      <th>14</th>\n",
       "      <td>5.0</td>\n",
       "      <td>0.714000</td>\n",
       "      <td>0.105972</td>\n",
       "      <td>0.650000</td>\n",
       "      <td>0.650000</td>\n",
       "      <td>0.670000</td>\n",
       "      <td>0.700000</td>\n",
       "      <td>0.900000</td>\n",
       "    </tr>\n",
       "    <tr>\n",
       "      <th>15</th>\n",
       "      <td>5.0</td>\n",
       "      <td>0.692727</td>\n",
       "      <td>0.108928</td>\n",
       "      <td>0.515152</td>\n",
       "      <td>0.676768</td>\n",
       "      <td>0.718182</td>\n",
       "      <td>0.755556</td>\n",
       "      <td>0.797980</td>\n",
       "    </tr>\n",
       "    <tr>\n",
       "      <th>16</th>\n",
       "      <td>5.0</td>\n",
       "      <td>0.720626</td>\n",
       "      <td>0.166088</td>\n",
       "      <td>0.509091</td>\n",
       "      <td>0.590000</td>\n",
       "      <td>0.755556</td>\n",
       "      <td>0.866667</td>\n",
       "      <td>0.881818</td>\n",
       "    </tr>\n",
       "    <tr>\n",
       "      <th>17</th>\n",
       "      <td>5.0</td>\n",
       "      <td>0.630101</td>\n",
       "      <td>0.132697</td>\n",
       "      <td>0.494949</td>\n",
       "      <td>0.505051</td>\n",
       "      <td>0.626263</td>\n",
       "      <td>0.733333</td>\n",
       "      <td>0.790909</td>\n",
       "    </tr>\n",
       "    <tr>\n",
       "      <th>18</th>\n",
       "      <td>5.0</td>\n",
       "      <td>0.569293</td>\n",
       "      <td>0.149970</td>\n",
       "      <td>0.427273</td>\n",
       "      <td>0.433333</td>\n",
       "      <td>0.533333</td>\n",
       "      <td>0.707071</td>\n",
       "      <td>0.745455</td>\n",
       "    </tr>\n",
       "    <tr>\n",
       "      <th>19</th>\n",
       "      <td>5.0</td>\n",
       "      <td>0.568889</td>\n",
       "      <td>0.154502</td>\n",
       "      <td>0.409091</td>\n",
       "      <td>0.490909</td>\n",
       "      <td>0.500000</td>\n",
       "      <td>0.644444</td>\n",
       "      <td>0.800000</td>\n",
       "    </tr>\n",
       "  </tbody>\n",
       "</table>\n",
       "</div>"
      ],
      "text/plain": [
       "         scores                                                              \\\n",
       "          count      mean       std       min       25%       50%       75%   \n",
       "subjects                                                                      \n",
       "0           5.0  0.650000  0.036056  0.600000  0.640000  0.650000  0.660000   \n",
       "1           5.0  0.563596  0.162300  0.409091  0.460000  0.488889  0.660000   \n",
       "2           5.0  0.711111  0.085292  0.595960  0.646465  0.747475  0.777778   \n",
       "3           5.0  0.657172  0.143031  0.511111  0.515152  0.677778  0.745455   \n",
       "4           5.0  0.446141  0.151034  0.281818  0.350000  0.388889  0.580000   \n",
       "5           5.0  0.628872  0.217203  0.458333  0.462963  0.511364  0.768519   \n",
       "6           5.0  0.678000  0.117558  0.520000  0.640000  0.640000  0.790000   \n",
       "7           5.0  0.628283  0.049690  0.565657  0.595960  0.626263  0.666667   \n",
       "8           5.0  0.546020  0.094183  0.418182  0.520000  0.536364  0.577778   \n",
       "9           5.0  0.444000  0.105972  0.340000  0.350000  0.460000  0.470000   \n",
       "10          5.0  0.718768  0.091461  0.572727  0.711111  0.730000  0.760000   \n",
       "11          5.0  0.674000  0.059414  0.610000  0.630000  0.660000  0.720000   \n",
       "12          5.0  0.675152  0.221614  0.300000  0.676768  0.722222  0.828283   \n",
       "13          5.0  0.536768  0.059410  0.466667  0.500000  0.522222  0.585859   \n",
       "14          5.0  0.714000  0.105972  0.650000  0.650000  0.670000  0.700000   \n",
       "15          5.0  0.692727  0.108928  0.515152  0.676768  0.718182  0.755556   \n",
       "16          5.0  0.720626  0.166088  0.509091  0.590000  0.755556  0.866667   \n",
       "17          5.0  0.630101  0.132697  0.494949  0.505051  0.626263  0.733333   \n",
       "18          5.0  0.569293  0.149970  0.427273  0.433333  0.533333  0.707071   \n",
       "19          5.0  0.568889  0.154502  0.409091  0.490909  0.500000  0.644444   \n",
       "\n",
       "                    \n",
       "               max  \n",
       "subjects            \n",
       "0         0.700000  \n",
       "1         0.800000  \n",
       "2         0.787879  \n",
       "3         0.836364  \n",
       "4         0.630000  \n",
       "5         0.943182  \n",
       "6         0.800000  \n",
       "7         0.686869  \n",
       "8         0.677778  \n",
       "9         0.600000  \n",
       "10        0.820000  \n",
       "11        0.750000  \n",
       "12        0.848485  \n",
       "13        0.609091  \n",
       "14        0.900000  \n",
       "15        0.797980  \n",
       "16        0.881818  \n",
       "17        0.790909  \n",
       "18        0.745455  \n",
       "19        0.800000  "
      ]
     },
     "execution_count": 106,
     "metadata": {},
     "output_type": "execute_result"
    }
   ],
   "source": [
    "result_scores.groupby(['subjects']).describe()"
   ]
  },
  {
   "cell_type": "code",
   "execution_count": 107,
   "metadata": {},
   "outputs": [
    {
     "data": {
      "text/plain": [
       "Text(0.5,1,'grand average AUC = 0.62')"
      ]
     },
     "execution_count": 107,
     "metadata": {},
     "output_type": "execute_result"
    },
    {
     "data": {
      "image/png": "[encoded data removed]",
      "text/plain": [
       "<matplotlib.figure.Figure at 0x2e763726da0>"
      ]
     },
     "metadata": {},
     "output_type": "display_data"
    }
   ],
   "source": [
    "sns.boxplot(x='subjects',y='scores',data=result_scores)\n",
    "plt.title('grand average AUC = %.2f'%(result_scores['scores'].mean()))"
   ]
  },
  {
   "cell_type": "markdown",
   "metadata": {},
   "source": [
    "As we see from above, most of the subjects have a average AUC score above chance. Each subject has 5 model scores, which represent our estimate of the model mx + b = y. Thus, the grand average AUC (0.67) is how much the between-subject variability we estimate from the current simulated experiment."
   ]
  },
  {
   "cell_type": "code",
   "execution_count": 108,
   "metadata": {},
   "outputs": [
    {
     "data": {
      "image/png": "[encoded data removed]",
      "text/plain": [
       "<matplotlib.figure.Figure at 0x2e763e19b00>"
      ]
     },
     "metadata": {},
     "output_type": "display_data"
    }
   ],
   "source": [
    "for (_,k),(_,l) in zip(results.items(),labels.items()): \n",
    "    idx_positive = l == 1\n",
    "    idx_negative = l == -1\n",
    "    plt.hist(k[idx_positive],color='blue',bins=50)\n",
    "    plt.hist(k[idx_negative],color='red',bins=50)"
   ]
  },
  {
   "cell_type": "markdown",
   "metadata": {},
   "source": [
    "As shown above, it the two distributions of measures for the positive responses (blue) and the negative responses (red). They overlap a lot, which suggests low signal-to-noise ratio for the data as a whole."
   ]
  },
  {
   "cell_type": "markdown",
   "metadata": {},
   "source": [
    "# average measures within each subject and fit a model for the averaged data"
   ]
  },
  {
   "cell_type": "code",
   "execution_count": 109,
   "metadata": {},
   "outputs": [],
   "source": [
    "data = []\n",
    "for (_,k),(_,l) in zip(results.items(),labels.items()):\n",
    "    idx_positive = l == 1\n",
    "    idx_negative = l == -1\n",
    "    data.append([k[idx_positive].mean(),1])\n",
    "    data.append([k[idx_negative].mean(),-1])\n",
    "data = np.array(data)"
   ]
  },
  {
   "cell_type": "code",
   "execution_count": 110,
   "metadata": {},
   "outputs": [
    {
     "name": "stdout",
     "output_type": "stream",
     "text": [
      "[1.     1.     1.     0.9375 1.    ]\n"
     ]
    }
   ],
   "source": [
    "model = linear_model.LogisticRegression(class_weight='balanced',random_state=12345,max_iter=int(1e5))\n",
    "cv = StratifiedKFold(n_splits=5,shuffle=True,random_state=12345)\n",
    "scores = cross_val_score(model,data[:,0].reshape(-1,1),data[:,1],cv=cv,scoring='roc_auc',)\n",
    "print(scores)"
   ]
  },
  {
   "cell_type": "markdown",
   "metadata": {},
   "source": [
    "We have a perfect score when we use the averaged measures"
   ]
  },
  {
   "cell_type": "code",
   "execution_count": 111,
   "metadata": {},
   "outputs": [
    {
     "data": {
      "text/plain": [
       "<matplotlib.legend.Legend at 0x2e761be3e80>"
      ]
     },
     "execution_count": 111,
     "metadata": {},
     "output_type": "execute_result"
    },
    {
     "data": {
      "image/png": "[encoded data removed]",
      "text/plain": [
       "<matplotlib.figure.Figure at 0x2e764033710>"
      ]
     },
     "metadata": {},
     "output_type": "display_data"
    }
   ],
   "source": [
    "plt.hist(data[data[:,1]==1,0],color='blue',label='positive')\n",
    "plt.hist(data[data[:,1]==-1,0],color='red',label='negative')\n",
    "plt.legend()"
   ]
  },
  {
   "cell_type": "markdown",
   "metadata": {},
   "source": [
    "As shown above, after we average the measure within each subject, we do have better representation (signal) of the data distribution. There is a clear boundary between positive and negative responses. "
   ]
  },
  {
   "cell_type": "markdown",
   "metadata": {},
   "source": [
    "# concatenate all the subjects but don't average over trials. Carefully cross validation"
   ]
  },
  {
   "cell_type": "code",
   "execution_count": 112,
   "metadata": {},
   "outputs": [],
   "source": [
    "model = linear_model.LogisticRegression(class_weight='balanced',random_state=12345,max_iter=int(1e5))\n",
    "cv = StratifiedKFold(n_splits=5,shuffle=True,random_state=12345)\n",
    "data = []\n",
    "for n,measure_ in results.items():\n",
    "    temp = pd.Series(measure_)\n",
    "    temp = temp.to_frame()\n",
    "    temp['subject'] = n\n",
    "    temp['label'] = labels[n]\n",
    "    temp.columns = ['measures','subject','label']\n",
    "    data.append(temp)\n",
    "data = pd.concat(data)"
   ]
  },
  {
   "cell_type": "code",
   "execution_count": 113,
   "metadata": {},
   "outputs": [
    {
     "name": "stdout",
     "output_type": "stream",
     "text": [
      "[0.62526745 0.66935363 0.59995999 0.62929085 0.63665377] average = 0.63\n"
     ]
    }
   ],
   "source": [
    "scores = cross_val_score(model,data['measures'].values.reshape(-1,1),data['label'],\n",
    "                         groups=data['subject'],# this parameter controls the split by subject not the labels\n",
    "                         scoring='roc_auc',cv=cv,\n",
    "                        )\n",
    "print(scores,'average = %.2f'%(np.mean(scores)))"
   ]
  },
  {
   "cell_type": "markdown",
   "metadata": {},
   "source": [
    "As shown above, the average score is similar to method 1"
   ]
  },
  {
   "cell_type": "code",
   "execution_count": null,
   "metadata": {},
   "outputs": [],
   "source": []
  }
 ],
 "metadata": {
  "kernelspec": {
   "display_name": "Python 3",
   "language": "python",
   "name": "python3"
  },
  "language_info": {
   "codemirror_mode": {
    "name": "ipython",
    "version": 3
   },
   "file_extension": ".py",
   "mimetype": "text/x-python",
   "name": "python",
   "nbconvert_exporter": "python",
   "pygments_lexer": "ipython3",
   "version": "3.5.2"
  }
 },
 "nbformat": 4,
 "nbformat_minor": 2
}
