{
 "cells": [
  {
   "cell_type": "code",
   "execution_count": 72,
   "metadata": {},
   "outputs": [],
   "source": [
    "import numpy as np\n",
    "from sklearn import linear_model\n",
    "import matplotlib.pyplot as plt\n",
    "%matplotlib inline\n",
    "import seaborn as sns\n",
    "import pandas as pd"
   ]
  },
  {
   "cell_type": "code",
   "execution_count": 73,
   "metadata": {},
   "outputs": [],
   "source": [
    "distribution_m = (4,1.2)\n",
    "distribution_noise = (3,1.1)\n",
    "distribution_experiment_noise = (0,1)\n",
    "n_subjects = 20 # subjects\n",
    "n_trials = int(100) # number of trials per subject\n",
    "responses = (0.5,2)"
   ]
  },
  {
   "cell_type": "code",
   "execution_count": 74,
   "metadata": {},
   "outputs": [],
   "source": [
    "results = {}\n",
    "labels = {}\n",
    "for n in range(n_subjects):\n",
    "    # for each trial, there is internel noise contributes to the response\n",
    "    internal_noise = np.random.normal(loc=distribution_noise[0],scale=distribution_noise[1],size=n_trials)\n",
    "    # for each trial, there is a \"m\" drew from a N(4,1.2) distribution\n",
    "    internal_m = np.random.normal(loc=distribution_m[0],scale=distribution_m[1],size=n_trials)\n",
    "    # subject responses is a binomial distribution\n",
    "    subject_responses = np.random.choice([-1,1],size=n_trials,p=[responses[0],responses[0]])\n",
    "    # there exists some fixed experimental noise for all the subjects drew from a unit normal distribution\n",
    "    noise = np.random.normal(loc=distribution_experiment_noise[0],scale=distribution_experiment_noise[1],size=n_trials)\n",
    "    # since the formula: mx + b = y, where x is the measure, b is the internal noise, and y is the response,\n",
    "    # the inverted measure simulation is: (y - b) / m + experimental noise\n",
    "    measures = (subject_responses - internal_noise)/internal_m + noise\n",
    "    results[n] = measures\n",
    "    labels[n] = subject_responses"
   ]
  },
  {
   "cell_type": "markdown",
   "metadata": {},
   "source": [
    "# fit a model for each subject and then plot the scores of them"
   ]
  },
  {
   "cell_type": "code",
   "execution_count": 75,
   "metadata": {},
   "outputs": [],
   "source": [
    "from sklearn.model_selection import StratifiedKFold,cross_val_score"
   ]
  },
  {
   "cell_type": "code",
   "execution_count": 76,
   "metadata": {},
   "outputs": [],
   "source": [
    "result_scores = []\n",
    "for n in range(n_subjects):\n",
    "    model = linear_model.LogisticRegression(class_weight='balanced',random_state=12345,max_iter=int(1e5))\n",
    "    cv = StratifiedKFold(n_splits=5,shuffle=True,random_state=12345)\n",
    "    scores = cross_val_score(model,results[n].reshape(-1,1),labels[n],cv=cv,scoring='roc_auc',)\n",
    "    result_scores.append(scores)\n",
    "result_scores = np.array(result_scores)\n",
    "result_scores = pd.DataFrame(np.array([result_scores.flatten(),np.repeat(np.arange(n_subjects),5)]).T,\n",
    "                            columns=['scores','subjects'])\n",
    "result_scores['subjects'] = result_scores['subjects'].astype(int)"
   ]
  },
  {
   "cell_type": "code",
   "execution_count": 77,
   "metadata": {},
   "outputs": [
    {
     "data": {
      "text/html": [
       "<div>\n",
       "<style scoped>\n",
       "    .dataframe tbody tr th:only-of-type {\n",
       "        vertical-align: middle;\n",
       "    }\n",
       "\n",
       "    .dataframe tbody tr th {\n",
       "        vertical-align: top;\n",
       "    }\n",
       "\n",
       "    .dataframe thead tr th {\n",
       "        text-align: left;\n",
       "    }\n",
       "\n",
       "    .dataframe thead tr:last-of-type th {\n",
       "        text-align: right;\n",
       "    }\n",
       "</style>\n",
       "<table border=\"1\" class=\"dataframe\">\n",
       "  <thead>\n",
       "    <tr>\n",
       "      <th></th>\n",
       "      <th colspan=\"8\" halign=\"left\">scores</th>\n",
       "    </tr>\n",
       "    <tr>\n",
       "      <th></th>\n",
       "      <th>count</th>\n",
       "      <th>mean</th>\n",
       "      <th>std</th>\n",
       "      <th>min</th>\n",
       "      <th>25%</th>\n",
       "      <th>50%</th>\n",
       "      <th>75%</th>\n",
       "      <th>max</th>\n",
       "    </tr>\n",
       "    <tr>\n",
       "      <th>subjects</th>\n",
       "      <th></th>\n",
       "      <th></th>\n",
       "      <th></th>\n",
       "      <th></th>\n",
       "      <th></th>\n",
       "      <th></th>\n",
       "      <th></th>\n",
       "      <th></th>\n",
       "    </tr>\n",
       "  </thead>\n",
       "  <tbody>\n",
       "    <tr>\n",
       "      <th>0</th>\n",
       "      <td>5.0</td>\n",
       "      <td>0.676515</td>\n",
       "      <td>0.118399</td>\n",
       "      <td>0.525253</td>\n",
       "      <td>0.611111</td>\n",
       "      <td>0.666667</td>\n",
       "      <td>0.750000</td>\n",
       "      <td>0.829545</td>\n",
       "    </tr>\n",
       "    <tr>\n",
       "      <th>1</th>\n",
       "      <td>5.0</td>\n",
       "      <td>0.713152</td>\n",
       "      <td>0.208162</td>\n",
       "      <td>0.466667</td>\n",
       "      <td>0.509091</td>\n",
       "      <td>0.820000</td>\n",
       "      <td>0.870000</td>\n",
       "      <td>0.900000</td>\n",
       "    </tr>\n",
       "    <tr>\n",
       "      <th>2</th>\n",
       "      <td>5.0</td>\n",
       "      <td>0.673071</td>\n",
       "      <td>0.063898</td>\n",
       "      <td>0.570000</td>\n",
       "      <td>0.670000</td>\n",
       "      <td>0.690000</td>\n",
       "      <td>0.690909</td>\n",
       "      <td>0.744444</td>\n",
       "    </tr>\n",
       "    <tr>\n",
       "      <th>3</th>\n",
       "      <td>5.0</td>\n",
       "      <td>0.664000</td>\n",
       "      <td>0.130499</td>\n",
       "      <td>0.510000</td>\n",
       "      <td>0.580000</td>\n",
       "      <td>0.640000</td>\n",
       "      <td>0.760000</td>\n",
       "      <td>0.830000</td>\n",
       "    </tr>\n",
       "    <tr>\n",
       "      <th>4</th>\n",
       "      <td>5.0</td>\n",
       "      <td>0.599596</td>\n",
       "      <td>0.065845</td>\n",
       "      <td>0.518182</td>\n",
       "      <td>0.555556</td>\n",
       "      <td>0.609091</td>\n",
       "      <td>0.626263</td>\n",
       "      <td>0.688889</td>\n",
       "    </tr>\n",
       "    <tr>\n",
       "      <th>5</th>\n",
       "      <td>5.0</td>\n",
       "      <td>0.737374</td>\n",
       "      <td>0.129946</td>\n",
       "      <td>0.575758</td>\n",
       "      <td>0.666667</td>\n",
       "      <td>0.717172</td>\n",
       "      <td>0.818182</td>\n",
       "      <td>0.909091</td>\n",
       "    </tr>\n",
       "    <tr>\n",
       "      <th>6</th>\n",
       "      <td>5.0</td>\n",
       "      <td>0.747677</td>\n",
       "      <td>0.085084</td>\n",
       "      <td>0.616162</td>\n",
       "      <td>0.722222</td>\n",
       "      <td>0.763636</td>\n",
       "      <td>0.797980</td>\n",
       "      <td>0.838384</td>\n",
       "    </tr>\n",
       "    <tr>\n",
       "      <th>7</th>\n",
       "      <td>5.0</td>\n",
       "      <td>0.748000</td>\n",
       "      <td>0.103537</td>\n",
       "      <td>0.600000</td>\n",
       "      <td>0.680000</td>\n",
       "      <td>0.800000</td>\n",
       "      <td>0.820000</td>\n",
       "      <td>0.840000</td>\n",
       "    </tr>\n",
       "    <tr>\n",
       "      <th>8</th>\n",
       "      <td>5.0</td>\n",
       "      <td>0.703232</td>\n",
       "      <td>0.114586</td>\n",
       "      <td>0.566667</td>\n",
       "      <td>0.627273</td>\n",
       "      <td>0.718182</td>\n",
       "      <td>0.737374</td>\n",
       "      <td>0.866667</td>\n",
       "    </tr>\n",
       "    <tr>\n",
       "      <th>9</th>\n",
       "      <td>5.0</td>\n",
       "      <td>0.686000</td>\n",
       "      <td>0.157734</td>\n",
       "      <td>0.500000</td>\n",
       "      <td>0.540000</td>\n",
       "      <td>0.730000</td>\n",
       "      <td>0.820000</td>\n",
       "      <td>0.840000</td>\n",
       "    </tr>\n",
       "    <tr>\n",
       "      <th>10</th>\n",
       "      <td>5.0</td>\n",
       "      <td>0.670283</td>\n",
       "      <td>0.106218</td>\n",
       "      <td>0.510000</td>\n",
       "      <td>0.633333</td>\n",
       "      <td>0.681818</td>\n",
       "      <td>0.744444</td>\n",
       "      <td>0.781818</td>\n",
       "    </tr>\n",
       "    <tr>\n",
       "      <th>11</th>\n",
       "      <td>5.0</td>\n",
       "      <td>0.617596</td>\n",
       "      <td>0.037270</td>\n",
       "      <td>0.572727</td>\n",
       "      <td>0.590000</td>\n",
       "      <td>0.622222</td>\n",
       "      <td>0.636364</td>\n",
       "      <td>0.666667</td>\n",
       "    </tr>\n",
       "    <tr>\n",
       "      <th>12</th>\n",
       "      <td>5.0</td>\n",
       "      <td>0.636364</td>\n",
       "      <td>0.051505</td>\n",
       "      <td>0.575758</td>\n",
       "      <td>0.606061</td>\n",
       "      <td>0.626263</td>\n",
       "      <td>0.666667</td>\n",
       "      <td>0.707071</td>\n",
       "    </tr>\n",
       "    <tr>\n",
       "      <th>13</th>\n",
       "      <td>5.0</td>\n",
       "      <td>0.674000</td>\n",
       "      <td>0.128569</td>\n",
       "      <td>0.460000</td>\n",
       "      <td>0.650000</td>\n",
       "      <td>0.730000</td>\n",
       "      <td>0.760000</td>\n",
       "      <td>0.770000</td>\n",
       "    </tr>\n",
       "    <tr>\n",
       "      <th>14</th>\n",
       "      <td>5.0</td>\n",
       "      <td>0.620626</td>\n",
       "      <td>0.167238</td>\n",
       "      <td>0.390909</td>\n",
       "      <td>0.540000</td>\n",
       "      <td>0.620000</td>\n",
       "      <td>0.730000</td>\n",
       "      <td>0.822222</td>\n",
       "    </tr>\n",
       "    <tr>\n",
       "      <th>15</th>\n",
       "      <td>5.0</td>\n",
       "      <td>0.597131</td>\n",
       "      <td>0.127902</td>\n",
       "      <td>0.470000</td>\n",
       "      <td>0.511111</td>\n",
       "      <td>0.560000</td>\n",
       "      <td>0.654545</td>\n",
       "      <td>0.790000</td>\n",
       "    </tr>\n",
       "    <tr>\n",
       "      <th>16</th>\n",
       "      <td>5.0</td>\n",
       "      <td>0.682660</td>\n",
       "      <td>0.102443</td>\n",
       "      <td>0.613636</td>\n",
       "      <td>0.626263</td>\n",
       "      <td>0.636364</td>\n",
       "      <td>0.675926</td>\n",
       "      <td>0.861111</td>\n",
       "    </tr>\n",
       "    <tr>\n",
       "      <th>17</th>\n",
       "      <td>5.0</td>\n",
       "      <td>0.644444</td>\n",
       "      <td>0.130025</td>\n",
       "      <td>0.494949</td>\n",
       "      <td>0.585859</td>\n",
       "      <td>0.606061</td>\n",
       "      <td>0.696970</td>\n",
       "      <td>0.838384</td>\n",
       "    </tr>\n",
       "    <tr>\n",
       "      <th>18</th>\n",
       "      <td>5.0</td>\n",
       "      <td>0.656768</td>\n",
       "      <td>0.074359</td>\n",
       "      <td>0.545455</td>\n",
       "      <td>0.622222</td>\n",
       "      <td>0.688889</td>\n",
       "      <td>0.690909</td>\n",
       "      <td>0.736364</td>\n",
       "    </tr>\n",
       "    <tr>\n",
       "      <th>19</th>\n",
       "      <td>5.0</td>\n",
       "      <td>0.610417</td>\n",
       "      <td>0.079876</td>\n",
       "      <td>0.468750</td>\n",
       "      <td>0.635417</td>\n",
       "      <td>0.635417</td>\n",
       "      <td>0.656250</td>\n",
       "      <td>0.656250</td>\n",
       "    </tr>\n",
       "  </tbody>\n",
       "</table>\n",
       "</div>"
      ],
      "text/plain": [
       "         scores                                                              \\\n",
       "          count      mean       std       min       25%       50%       75%   \n",
       "subjects                                                                      \n",
       "0           5.0  0.676515  0.118399  0.525253  0.611111  0.666667  0.750000   \n",
       "1           5.0  0.713152  0.208162  0.466667  0.509091  0.820000  0.870000   \n",
       "2           5.0  0.673071  0.063898  0.570000  0.670000  0.690000  0.690909   \n",
       "3           5.0  0.664000  0.130499  0.510000  0.580000  0.640000  0.760000   \n",
       "4           5.0  0.599596  0.065845  0.518182  0.555556  0.609091  0.626263   \n",
       "5           5.0  0.737374  0.129946  0.575758  0.666667  0.717172  0.818182   \n",
       "6           5.0  0.747677  0.085084  0.616162  0.722222  0.763636  0.797980   \n",
       "7           5.0  0.748000  0.103537  0.600000  0.680000  0.800000  0.820000   \n",
       "8           5.0  0.703232  0.114586  0.566667  0.627273  0.718182  0.737374   \n",
       "9           5.0  0.686000  0.157734  0.500000  0.540000  0.730000  0.820000   \n",
       "10          5.0  0.670283  0.106218  0.510000  0.633333  0.681818  0.744444   \n",
       "11          5.0  0.617596  0.037270  0.572727  0.590000  0.622222  0.636364   \n",
       "12          5.0  0.636364  0.051505  0.575758  0.606061  0.626263  0.666667   \n",
       "13          5.0  0.674000  0.128569  0.460000  0.650000  0.730000  0.760000   \n",
       "14          5.0  0.620626  0.167238  0.390909  0.540000  0.620000  0.730000   \n",
       "15          5.0  0.597131  0.127902  0.470000  0.511111  0.560000  0.654545   \n",
       "16          5.0  0.682660  0.102443  0.613636  0.626263  0.636364  0.675926   \n",
       "17          5.0  0.644444  0.130025  0.494949  0.585859  0.606061  0.696970   \n",
       "18          5.0  0.656768  0.074359  0.545455  0.622222  0.688889  0.690909   \n",
       "19          5.0  0.610417  0.079876  0.468750  0.635417  0.635417  0.656250   \n",
       "\n",
       "                    \n",
       "               max  \n",
       "subjects            \n",
       "0         0.829545  \n",
       "1         0.900000  \n",
       "2         0.744444  \n",
       "3         0.830000  \n",
       "4         0.688889  \n",
       "5         0.909091  \n",
       "6         0.838384  \n",
       "7         0.840000  \n",
       "8         0.866667  \n",
       "9         0.840000  \n",
       "10        0.781818  \n",
       "11        0.666667  \n",
       "12        0.707071  \n",
       "13        0.770000  \n",
       "14        0.822222  \n",
       "15        0.790000  \n",
       "16        0.861111  \n",
       "17        0.838384  \n",
       "18        0.736364  \n",
       "19        0.656250  "
      ]
     },
     "execution_count": 77,
     "metadata": {},
     "output_type": "execute_result"
    }
   ],
   "source": [
    "result_scores.groupby(['subjects']).describe()"
   ]
  },
  {
   "cell_type": "code",
   "execution_count": 78,
   "metadata": {},
   "outputs": [
    {
     "data": {
      "text/plain": [
       "Text(0.5,1,'grand average AUC = 0.67')"
      ]
     },
     "execution_count": 78,
     "metadata": {},
     "output_type": "execute_result"
    },
    {
     "data": {
      "image/png": "[encoded data removed]",
      "text/plain": [
       "<matplotlib.figure.Figure at 0x2e76044a2e8>"
      ]
     },
     "metadata": {},
     "output_type": "display_data"
    }
   ],
   "source": [
    "sns.boxplot(x='subjects',y='scores',data=result_scores)\n",
    "plt.title('grand average AUC = %.2f'%(result_scores['scores'].mean()))"
   ]
  },
  {
   "cell_type": "markdown",
   "metadata": {},
   "source": [
    "As we see from above, most of the subjects have a average AUC score above chance. Each subject has 5 model scores, which represent our estimate of the model mx + b = y. Thus, the grand average AUC (0.67) is how much the between-subject variability we estimate from the current simulated experiment."
   ]
  },
  {
   "cell_type": "code",
   "execution_count": 79,
   "metadata": {},
   "outputs": [
    {
     "data": {
      "image/png": "[encoded data removed]",
      "text/plain": [
       "<matplotlib.figure.Figure at 0x2e761b28400>"
      ]
     },
     "metadata": {},
     "output_type": "display_data"
    }
   ],
   "source": [
    "for (_,k),(_,l) in zip(results.items(),labels.items()): \n",
    "    idx_positive = l == 1\n",
    "    idx_negative = l == -1\n",
    "    plt.hist(k[idx_positive],color='blue',bins=50)\n",
    "    plt.hist(k[idx_negative],color='red',bins=50)"
   ]
  },
  {
   "cell_type": "markdown",
   "metadata": {},
   "source": [
    "As shown above, it the two distributions of measures for the positive responses (blue) and the negative responses (red). They overlap a lot, which suggests low signal-to-noise ratio for the data as a whole."
   ]
  },
  {
   "cell_type": "markdown",
   "metadata": {},
   "source": [
    "# average measures within each subject and fit a model for the averaged data"
   ]
  },
  {
   "cell_type": "code",
   "execution_count": 80,
   "metadata": {},
   "outputs": [],
   "source": [
    "data = []\n",
    "for (_,k),(_,l) in zip(results.items(),labels.items()):\n",
    "    idx_positive = l == 1\n",
    "    idx_negative = l == -1\n",
    "    data.append([k[idx_positive].mean(),1])\n",
    "    data.append([k[idx_negative].mean(),-1])\n",
    "data = np.array(data)"
   ]
  },
  {
   "cell_type": "code",
   "execution_count": 81,
   "metadata": {},
   "outputs": [
    {
     "name": "stdout",
     "output_type": "stream",
     "text": [
      "[1. 1. 1. 1. 1.]\n"
     ]
    }
   ],
   "source": [
    "model = linear_model.LogisticRegression(class_weight='balanced',random_state=12345,max_iter=int(1e5))\n",
    "cv = StratifiedKFold(n_splits=5,shuffle=True,random_state=12345)\n",
    "scores = cross_val_score(model,data[:,0].reshape(-1,1),data[:,1],cv=cv,scoring='roc_auc',)\n",
    "print(scores)"
   ]
  },
  {
   "cell_type": "markdown",
   "metadata": {},
   "source": [
    "We have a perfect score when we use the averaged measures"
   ]
  },
  {
   "cell_type": "code",
   "execution_count": 82,
   "metadata": {},
   "outputs": [
    {
     "data": {
      "text/plain": [
       "<matplotlib.legend.Legend at 0x2e761f91a20>"
      ]
     },
     "execution_count": 82,
     "metadata": {},
     "output_type": "execute_result"
    },
    {
     "data": {
      "image/png": "[encoded data removed]",
      "text/plain": [
       "<matplotlib.figure.Figure at 0x2e760071e48>"
      ]
     },
     "metadata": {},
     "output_type": "display_data"
    }
   ],
   "source": [
    "plt.hist(data[data[:,1]==1,0],color='blue',label='positive')\n",
    "plt.hist(data[data[:,1]==-1,0],color='red',label='negative')\n",
    "plt.legend()"
   ]
  },
  {
   "cell_type": "markdown",
   "metadata": {},
   "source": [
    "As shown above, after we average the measure within each subject, we do have better representation (signal) of the data distribution. There is a clear boundary between positive and negative responses. "
   ]
  },
  {
   "cell_type": "code",
   "execution_count": null,
   "metadata": {},
   "outputs": [],
   "source": []
  }
 ],
 "metadata": {
  "kernelspec": {
   "display_name": "Python 3",
   "language": "python",
   "name": "python3"
  },
  "language_info": {
   "codemirror_mode": {
    "name": "ipython",
    "version": 3
   },
   "file_extension": ".py",
   "mimetype": "text/x-python",
   "name": "python",
   "nbconvert_exporter": "python",
   "pygments_lexer": "ipython3",
   "version": "3.5.2"
  }
 },
 "nbformat": 4,
 "nbformat_minor": 2
}
