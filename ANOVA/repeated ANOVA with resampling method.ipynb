{
 "cells": [
  {
   "cell_type": "code",
   "execution_count": 3,
   "metadata": {},
   "outputs": [],
   "source": [
    "import pandas as pd\n",
    "import numpy as np\n",
    "%matplotlib inline\n",
    "import seaborn as sns\n",
    "sns.set_style('whitegrid')\n",
    "sns.set_context('poster')"
   ]
  },
  {
   "cell_type": "code",
   "execution_count": 5,
   "metadata": {},
   "outputs": [],
   "source": [
    "def generate_condition(means = [1.1,1.5,2.1,2.9],\n",
    "                       stds = [.8,.7,.9,.8],\n",
    "                       n = 10 ,\n",
    "                       condition = 1,\n",
    "                       plot = True):\n",
    "    temp = [];condition = []; time = [];# phase in one condition\n",
    "    for ii,(m,s) in enumerate(zip(means,stds)):\n",
    "        temp.append(np.random.normal(m,s,size=int(n)))\n",
    "        condition.append([condition]*n)\n",
    "        time.append([ii+1]*n)\n",
    "    df = pd.DataFrame(np.vstack([np.concatenate(temp),\n",
    "               np.concatenate(condition),\n",
    "               np.concatenate(time)]).T,\n",
    "                     columns = ['measure','condition','time'])\n",
    "    df['sub'] = np.tile(np.arange(1,n+1),len(means))\n",
    "    if plot:\n",
    "        sns.catplot(x='time',y='measure',data=df1,kind = 'point')"
   ]
  },
  {
   "cell_type": "code",
   "execution_count": null,
   "metadata": {},
   "outputs": [],
   "source": [
    "n = 10\n",
    "means = [[1.1,1.5,2.1,2.9],\n",
    "         [1.2,1.4,2.4,3.1],\n",
    "         [1.0,1.2,2.1,2.8],\n",
    "         [1.1,1.2,2.3,2.8]]\n",
    "stds = [[.82,.7,.96,.82],\n",
    "        [.85,.77,.91,.85],\n",
    "        [.81,.74,.95,.83],\n",
    "        [.8,.7,.9,.8]]\n",
    "df = []\n",
    "for ii,(mean,std) in enumerate(zip(means,stds)):\n",
    "    df_temp = generate_condition(mean,std,\n",
    "                                 n = n,\n",
    "                                 condition = ii + 1)\n",
    "    df.append(df_temp)\n",
    "df = pd.concat(df)"
   ]
  },
  {
   "cell_type": "code",
   "execution_count": null,
   "metadata": {},
   "outputs": [],
   "source": []
  }
 ],
 "metadata": {
  "kernelspec": {
   "display_name": "Python 3",
   "language": "python",
   "name": "python3"
  },
  "language_info": {
   "codemirror_mode": {
    "name": "ipython",
    "version": 3
   },
   "file_extension": ".py",
   "mimetype": "text/x-python",
   "name": "python",
   "nbconvert_exporter": "python",
   "pygments_lexer": "ipython3",
   "version": "3.7.3"
  }
 },
 "nbformat": 4,
 "nbformat_minor": 2
}
