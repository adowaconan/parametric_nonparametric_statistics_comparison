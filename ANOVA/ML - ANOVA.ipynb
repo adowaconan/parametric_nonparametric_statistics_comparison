{
 "cells": [
  {
   "cell_type": "code",
   "execution_count": 1,
   "metadata": {
    "collapsed": true
   },
   "outputs": [],
   "source": [
    "import numpy as np\n",
    "import matplotlib.pyplot as plt\n",
    "%matplotlib inline\n",
    "import pandas as pd\n",
    "from sklearn.model_selection import StratifiedKFold,permutation_test_score\n",
    "from sklearn.ensemble import RandomForestClassifier"
   ]
  },
  {
   "cell_type": "markdown",
   "metadata": {},
   "source": [
    "# Condition 1"
   ]
  },
  {
   "cell_type": "code",
   "execution_count": 18,
   "metadata": {},
   "outputs": [],
   "source": [
    "means = [1.1,1.5,2.1,2.9]\n",
    "stds = [.8,.7,.9,.8]\n",
    "n = 10\n",
    "temp = [];condition = []; time = [];# phase in one condition\n",
    "for ii,(m,s) in enumerate(zip(means,stds)):\n",
    "    temp.append(np.random.normal(m,s,size=int(n)))\n",
    "    condition.append([1]*n)\n",
    "    time.append([ii+1]*n)\n",
    "df1 = pd.DataFrame(np.vstack([np.concatenate(temp),\n",
    "           np.concatenate(condition),\n",
    "           np.concatenate(time)]).T,\n",
    "                 columns = ['measure','condition','time'])"
   ]
  },
  {
   "cell_type": "markdown",
   "metadata": {},
   "source": [
    "# condition 2"
   ]
  },
  {
   "cell_type": "code",
   "execution_count": 19,
   "metadata": {},
   "outputs": [],
   "source": [
    "means = [1.2,1.4,2.4,3.1]\n",
    "stds = [.8,.7,.9,.8]\n",
    "n = 9\n",
    "temp = [];condition = []; time = [];# phase in one condition\n",
    "for ii,(m,s) in enumerate(zip(means,stds)):\n",
    "    temp.append(np.random.normal(m,s,size=int(n)))\n",
    "    condition.append([2]*n)\n",
    "    time.append([ii+1]*n)\n",
    "df2 = pd.DataFrame(np.vstack([np.concatenate(temp),\n",
    "           np.concatenate(condition),\n",
    "           np.concatenate(time)]).T,\n",
    "                 columns = ['measure','condition','time'])"
   ]
  },
  {
   "cell_type": "markdown",
   "metadata": {},
   "source": [
    "# condition 3"
   ]
  },
  {
   "cell_type": "code",
   "execution_count": 20,
   "metadata": {
    "collapsed": true
   },
   "outputs": [],
   "source": [
    "means = [1.0,1.2,2.1,2.8]\n",
    "stds = [.8,.7,.9,.8]\n",
    "n = 11\n",
    "temp = [];condition = []; time = [];# phase in one condition\n",
    "for ii,(m,s) in enumerate(zip(means,stds)):\n",
    "    temp.append(np.random.normal(m,s,size=int(n)))\n",
    "    condition.append([3]*n)\n",
    "    time.append([ii+1]*n)\n",
    "df3 = pd.DataFrame(np.vstack([np.concatenate(temp),\n",
    "           np.concatenate(condition),\n",
    "           np.concatenate(time)]).T,\n",
    "                 columns = ['measure','condition','time'])"
   ]
  },
  {
   "cell_type": "markdown",
   "metadata": {},
   "source": [
    "# condition 4"
   ]
  },
  {
   "cell_type": "code",
   "execution_count": 21,
   "metadata": {
    "collapsed": true
   },
   "outputs": [],
   "source": [
    "means = [1.1,1.2,2.3,2.8]\n",
    "stds = [.8,.7,.9,.8]\n",
    "n = 10\n",
    "temp = [];condition = []; time = [];# phase in one condition\n",
    "for ii,(m,s) in enumerate(zip(means,stds)):\n",
    "    temp.append(np.random.normal(m,s,size=int(n)))\n",
    "    condition.append([4]*n)\n",
    "    time.append([ii+1]*n)\n",
    "df4 = pd.DataFrame(np.vstack([np.concatenate(temp),\n",
    "           np.concatenate(condition),\n",
    "           np.concatenate(time)]).T,\n",
    "                 columns = ['measure','condition','time'])"
   ]
  },
  {
   "cell_type": "code",
   "execution_count": 22,
   "metadata": {
    "collapsed": true
   },
   "outputs": [],
   "source": [
    "df = pd.concat([df1,df2,df3,df4])"
   ]
  },
  {
   "cell_type": "code",
   "execution_count": 24,
   "metadata": {},
   "outputs": [],
   "source": [
    "import seaborn as sns"
   ]
  },
  {
   "cell_type": "code",
   "execution_count": 26,
   "metadata": {},
   "outputs": [
    {
     "data": {
      "text/plain": [
       "<seaborn.axisgrid.FacetGrid at 0x87337f0>"
      ]
     },
     "execution_count": 26,
     "metadata": {},
     "output_type": "execute_result"
    },
    {
     "data": {
      "image/png": "[encoded data removed]",
      "text/plain": [
       "<matplotlib.figure.Figure at 0x875c7b8>"
      ]
     },
     "metadata": {},
     "output_type": "display_data"
    }
   ],
   "source": [
    "sns.factorplot(x='time',y='measure',hue='condition',data=df)"
   ]
  },
  {
   "cell_type": "code",
   "execution_count": 30,
   "metadata": {},
   "outputs": [
    {
     "name": "stdout",
     "output_type": "stream",
     "text": [
      "time at 1\n",
      "Classification score 0.245726495726 (pvalue : 0.60396039604)\n",
      "time at 2\n",
      "Classification score 0.249145299145 (pvalue : 0.485148514851)\n",
      "time at 3\n",
      "Classification score 0.379487179487 (pvalue : 0.0594059405941)\n",
      "time at 4\n",
      "Classification score 0.274786324786 (pvalue : 0.39603960396)\n"
     ]
    }
   ],
   "source": [
    "for time in [1,2,3,4]:\n",
    "    working_df = df[df['time'] == time]\n",
    "    x = working_df['measure'].values\n",
    "    y = working_df['condition'].values\n",
    "    x = x.reshape(x.shape[0],1)\n",
    "    clf = RandomForestClassifier(random_state=12345)\n",
    "    cv = StratifiedKFold(n_splits=3,shuffle=True,random_state=12345)\n",
    "    print('time at %d'%(time))\n",
    "    score, permutation_scores, pvalue = permutation_test_score(clf,\n",
    "                                                              x,y,cv=cv,\n",
    "                                                              random_state=12345,\n",
    "                                                              scoring='accuracy')\n",
    "    print(\"Classification score %s (pvalue : %s)\" % (score, pvalue))"
   ]
  },
  {
   "cell_type": "markdown",
   "metadata": {},
   "source": [
    "What the print out said in above is that at time 3, there a borderline difference."
   ]
  },
  {
   "cell_type": "code",
   "execution_count": 31,
   "metadata": {
    "collapsed": true
   },
   "outputs": [],
   "source": [
    "from sklearn.multiclass import OneVsOneClassifier,OneVsRestClassifier"
   ]
  },
  {
   "cell_type": "markdown",
   "metadata": {},
   "source": [
    "# one vs one"
   ]
  },
  {
   "cell_type": "code",
   "execution_count": 32,
   "metadata": {},
   "outputs": [
    {
     "name": "stdout",
     "output_type": "stream",
     "text": [
      "time at 1\n",
      "Classification score 0.221367521368 (pvalue : 0.70297029703)\n",
      "time at 2\n",
      "Classification score 0.230341880342 (pvalue : 0.534653465347)\n",
      "time at 3\n",
      "Classification score 0.429487179487 (pvalue : 0.039603960396)\n",
      "time at 4\n",
      "Classification score 0.330341880342 (pvalue : 0.19801980198)\n"
     ]
    }
   ],
   "source": [
    "for time in [1,2,3,4]:\n",
    "    working_df = df[df['time'] == time]\n",
    "    x = working_df['measure'].values\n",
    "    y = working_df['condition'].values\n",
    "    x = x.reshape(x.shape[0],1)\n",
    "    clf = RandomForestClassifier(random_state=12345)\n",
    "    clf = OneVsOneClassifier(clf)\n",
    "    cv = StratifiedKFold(n_splits=3,shuffle=True,random_state=12345)\n",
    "    print('time at %d'%(time))\n",
    "    score, permutation_scores, pvalue = permutation_test_score(clf,\n",
    "                                                              x,y,cv=cv,\n",
    "                                                              random_state=12345,\n",
    "                                                              scoring='accuracy')\n",
    "    print(\"Classification score %s (pvalue : %s)\" % (score, pvalue))"
   ]
  },
  {
   "cell_type": "markdown",
   "metadata": {},
   "source": [
    "What the print out said is at time 3, one of pairwise comparison is significant in terms of binary classification (the ultimate non parametric test)."
   ]
  },
  {
   "cell_type": "markdown",
   "metadata": {},
   "source": [
    "# one vs the rest"
   ]
  },
  {
   "cell_type": "code",
   "execution_count": 33,
   "metadata": {},
   "outputs": [
    {
     "name": "stdout",
     "output_type": "stream",
     "text": [
      "time at 1\n",
      "Classification score 0.245726495726 (pvalue : 0.584158415842)\n",
      "time at 2\n",
      "Classification score 0.280341880342 (pvalue : 0.356435643564)\n",
      "time at 3\n",
      "Classification score 0.401709401709 (pvalue : 0.029702970297)\n",
      "time at 4\n",
      "Classification score 0.249145299145 (pvalue : 0.544554455446)\n"
     ]
    }
   ],
   "source": [
    "for time in [1,2,3,4]:\n",
    "    working_df = df[df['time'] == time]\n",
    "    x = working_df['measure'].values\n",
    "    y = working_df['condition'].values\n",
    "    x = x.reshape(x.shape[0],1)\n",
    "    clf = RandomForestClassifier(random_state=12345)\n",
    "    clf = OneVsRestClassifier(clf)\n",
    "    cv = StratifiedKFold(n_splits=3,shuffle=True,random_state=12345)\n",
    "    print('time at %d'%(time))\n",
    "    score, permutation_scores, pvalue = permutation_test_score(clf,\n",
    "                                                              x,y,cv=cv,\n",
    "                                                              random_state=12345,\n",
    "                                                              scoring='accuracy')\n",
    "    print(\"Classification score %s (pvalue : %s)\" % (score, pvalue))"
   ]
  },
  {
   "cell_type": "markdown",
   "metadata": {},
   "source": [
    "This confirms at least one of the conditions at time 3 is different from the others."
   ]
  },
  {
   "cell_type": "code",
   "execution_count": null,
   "metadata": {
    "collapsed": true
   },
   "outputs": [],
   "source": []
  }
 ],
 "metadata": {
  "kernelspec": {
   "display_name": "Python 3",
   "language": "python",
   "name": "python3"
  },
  "language_info": {
   "codemirror_mode": {
    "name": "ipython",
    "version": 3
   },
   "file_extension": ".py",
   "mimetype": "text/x-python",
   "name": "python",
   "nbconvert_exporter": "python",
   "pygments_lexer": "ipython3",
   "version": "3.5.3"
  }
 },
 "nbformat": 4,
 "nbformat_minor": 2
}
