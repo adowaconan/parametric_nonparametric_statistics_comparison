{
 "cells": [
  {
   "cell_type": "code",
   "execution_count": 1,
   "metadata": {},
   "outputs": [],
   "source": [
    "import numpy as np\n",
    "from scipy import stats\n",
    "import pandas as pd\n",
    "from matplotlib import pyplot as plt\n",
    "%matplotlib inline\n",
    "import seaborn as sns\n",
    "sns.set_style(\"whitegrid\")\n",
    "sns.set_context(\"poster\")"
   ]
  },
  {
   "cell_type": "code",
   "execution_count": 8,
   "metadata": {},
   "outputs": [
    {
     "data": {
      "text/plain": [
       "Text(0.5, 0.98, 'r = 0.0882, p = 0.7114')"
      ]
     },
     "execution_count": 8,
     "metadata": {},
     "output_type": "execute_result"
    },
    {
     "data": {
      "image/png": "[encoded data removed]",
      "text/plain": [
       "<Figure size 360x360 with 1 Axes>"
      ]
     },
     "metadata": {
      "needs_background": "light"
     },
     "output_type": "display_data"
    }
   ],
   "source": [
    "def generate_date(means = [0,0],cov = [[1,0],[0,1]],size = 20,):\n",
    "    return np.random.multivariate_normal(means,cov,size = size)\n",
    "# test\n",
    "temp = generate_date()\n",
    "df = pd.DataFrame(temp,columns = ['x','y'])\n",
    "g = sns.lmplot('x','y',data = df)\n",
    "r,p = stats.pearsonr(df['x'],df['y'])\n",
    "g.fig.suptitle(f'r = {r:.4f}, p = {p:.4f}')"
   ]
  },
  {
   "cell_type": "code",
   "execution_count": 14,
   "metadata": {},
   "outputs": [],
   "source": [
    "results = dict(r=[],p=[])\n",
    "for ii in range(int(1e4)):\n",
    "    temp = generate_date()\n",
    "    df = pd.DataFrame(temp,columns = ['x','y'])\n",
    "    r,p = stats.pearsonr(df['x'],df['y'])\n",
    "    results['r'].append(r)\n",
    "    results['p'].append(p)\n",
    "results = pd.DataFrame(results)"
   ]
  },
  {
   "cell_type": "code",
   "execution_count": 15,
   "metadata": {},
   "outputs": [
    {
     "name": "stdout",
     "output_type": "stream",
     "text": [
      "level of false alarm = 0.054\n"
     ]
    }
   ],
   "source": [
    "level = np.sum(results['p'] < 0.05) / results.shape[0]\n",
    "print(f'level of false alarm = {level:.3f}')"
   ]
  },
  {
   "cell_type": "code",
   "execution_count": 16,
   "metadata": {},
   "outputs": [],
   "source": [
    "import statsmodels as sms\n",
    "class MCPConverter(object):\n",
    "    \"\"\"\n",
    "    input: array of p-values.\n",
    "    * convert p-value into adjusted p-value (or q-value)\n",
    "    \"\"\"\n",
    "    def __init__(self, pvals, zscores=None):\n",
    "        self.pvals = pvals\n",
    "        self.zscores = zscores\n",
    "        self.len = len(pvals)\n",
    "        if zscores is not None:\n",
    "            srted = np.array(sorted(zip(pvals.copy(), zscores.copy())))\n",
    "            self.sorted_pvals = srted[:, 0]\n",
    "            self.sorted_zscores = srted[:, 1]\n",
    "        else:\n",
    "            self.sorted_pvals = np.array(sorted(pvals.copy()))\n",
    "        self.order = sorted(range(len(pvals)), key=lambda x: pvals[x])\n",
    "    \n",
    "    def adjust(self, method=\"holm\"):\n",
    "        \"\"\"\n",
    "        methods = [\"bonferroni\", \"holm\", \"bh\", \"lfdr\"]\n",
    "         (local FDR method needs 'statsmodels' package)\n",
    "        \"\"\"\n",
    "        if method is \"bonferroni\":\n",
    "            return [np.min([1, i]) for i in self.sorted_pvals * self.len]\n",
    "        elif method is \"holm\":\n",
    "            return [np.min([1, i]) for i in (self.sorted_pvals * (self.len - np.arange(1, self.len+1) + 1))]\n",
    "        elif method is \"bh\":\n",
    "            p_times_m_i = self.sorted_pvals * self.len / np.arange(1, self.len+1)\n",
    "            return [np.min([p, p_times_m_i[i+1]]) if i < self.len-1 else p for i, p in enumerate(p_times_m_i)]\n",
    "        elif method is \"lfdr\":\n",
    "            if self.zscores is None:\n",
    "                raise ValueError(\"Z-scores were not provided.\")\n",
    "            return sms.stats.multitest.local_fdr(abs(self.sorted_zscores))\n",
    "        else:\n",
    "            raise ValueError(\"invalid method entered: '{}'\".format(method))\n",
    "            \n",
    "    def adjust_many(self, methods=[\"bonferroni\", \"holm\", \"bh\", \"lfdr\"]):\n",
    "        if self.zscores is not None:\n",
    "            df = pd.DataFrame(np.c_[self.sorted_pvals, self.sorted_zscores], columns=[\"p_values\", \"z_scores\"])\n",
    "            for method in methods:\n",
    "                df[method] = self.adjust(method)\n",
    "        else:\n",
    "            df = pd.DataFrame(self.sorted_pvals, columns=[\"p_values\"])\n",
    "            for method in methods:\n",
    "                if method is not \"lfdr\":\n",
    "                    df[method] = self.adjust(method)\n",
    "        return df"
   ]
  },
  {
   "cell_type": "code",
   "execution_count": 19,
   "metadata": {},
   "outputs": [
    {
     "name": "stdout",
     "output_type": "stream",
     "text": [
      "level of false alarm = 0.0000000000\n"
     ]
    }
   ],
   "source": [
    "df_pval = results.sort_values(['p'])\n",
    "pvals = df_pval['p'].values\n",
    "converter = MCPConverter(pvals = pvals)\n",
    "d = converter.adjust_many()\n",
    "df_pval['p_corrected'] = d['bonferroni'].values\n",
    "level = np.sum(df_pval['p_corrected'] < 0.05) / df_pval.shape[0]\n",
    "print(f'level of false alarm = {level:.10f}')"
   ]
  },
  {
   "cell_type": "code",
   "execution_count": 21,
   "metadata": {},
   "outputs": [
    {
     "data": {
      "text/plain": [
       "<matplotlib.legend.Legend at 0x2a5221dfba8>"
      ]
     },
     "execution_count": 21,
     "metadata": {},
     "output_type": "execute_result"
    },
    {
     "data": {
      "image/png": "[encoded data removed]",
      "text/plain": [
       "<Figure size 432x288 with 1 Axes>"
      ]
     },
     "metadata": {
      "needs_background": "light"
     },
     "output_type": "display_data"
    }
   ],
   "source": [
    "plt.hist(df_pval['p'],color = 'red',label = 'before corrected')\n",
    "plt.hist(df_pval['p_corrected'],color = 'blue',label = 'after corrected')\n",
    "plt.legend()"
   ]
  },
  {
   "cell_type": "code",
   "execution_count": null,
   "metadata": {},
   "outputs": [],
   "source": []
  }
 ],
 "metadata": {
  "kernelspec": {
   "display_name": "Python 3",
   "language": "python",
   "name": "python3"
  },
  "language_info": {
   "codemirror_mode": {
    "name": "ipython",
    "version": 3
   },
   "file_extension": ".py",
   "mimetype": "text/x-python",
   "name": "python",
   "nbconvert_exporter": "python",
   "pygments_lexer": "ipython3",
   "version": "3.7.3"
  }
 },
 "nbformat": 4,
 "nbformat_minor": 2
}
