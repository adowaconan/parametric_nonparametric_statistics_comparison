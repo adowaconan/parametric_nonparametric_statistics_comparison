{
 "cells": [
  {
   "cell_type": "code",
   "execution_count": 1,
   "metadata": {
    "collapsed": false
   },
   "outputs": [],
   "source": [
    "import random\n",
    "import numpy as np\n",
    "import scipy.stats as stats\n",
    "import matplotlib.pyplot as plt\n",
    "%matplotlib inline"
   ]
  },
  {
   "cell_type": "markdown",
   "metadata": {},
   "source": [
    "# Let's make some random data"
   ]
  },
  {
   "cell_type": "code",
   "execution_count": 11,
   "metadata": {
    "collapsed": false
   },
   "outputs": [
    {
     "data": {
      "image/png": "[encoded data removed]",
      "text/plain": [
       "<matplotlib.figure.Figure at 0x15234902a20>"
      ]
     },
     "metadata": {},
     "output_type": "display_data"
    }
   ],
   "source": [
    "# normal distribution data, mean = 1.5, std = 0.7\n",
    "data_normal = np.random.normal(0.05, 0.5, size=200)\n",
    "_=plt.hist(data_normal)\n",
    "_=plt.axvline(0,color='red',label='null hypothesis')\n",
    "_=plt.axvline(np.mean(data_normal),color='black',label='sample mean')\n",
    "_=plt.legend()"
   ]
  },
  {
   "cell_type": "markdown",
   "metadata": {},
   "source": [
    "## parametric one sample t test with scipy"
   ]
  },
  {
   "cell_type": "code",
   "execution_count": 12,
   "metadata": {
    "collapsed": false
   },
   "outputs": [
    {
     "data": {
      "text/plain": [
       "Ttest_1sampResult(statistic=2.346846295812568, pvalue=0.019915964316412751)"
      ]
     },
     "execution_count": 12,
     "metadata": {},
     "output_type": "execute_result"
    }
   ],
   "source": [
    "stats.ttest_1samp(data_normal,0,)"
   ]
  },
  {
   "cell_type": "markdown",
   "metadata": {},
   "source": [
    "## nonparametric one sample t test (wilcox) with scipy "
   ]
  },
  {
   "cell_type": "code",
   "execution_count": 13,
   "metadata": {
    "collapsed": false
   },
   "outputs": [
    {
     "data": {
      "text/plain": [
       "WilcoxonResult(statistic=8410.0, pvalue=0.0453838662691659)"
      ]
     },
     "execution_count": 13,
     "metadata": {},
     "output_type": "execute_result"
    }
   ],
   "source": [
    "stats.wilcoxon(data_normal,)"
   ]
  },
  {
   "cell_type": "markdown",
   "metadata": {},
   "source": [
    "## nonparametric one sample t"
   ]
  },
  {
   "cell_type": "code",
   "execution_count": 16,
   "metadata": {
    "collapsed": false
   },
   "outputs": [
    {
     "data": {
      "text/plain": [
       "<matplotlib.legend.Legend at 0x152349423c8>"
      ]
     },
     "execution_count": 16,
     "metadata": {},
     "output_type": "execute_result"
    },
    {
     "data": {
      "image/png": "[encoded data removed]",
      "text/plain": [
       "<matplotlib.figure.Figure at 0x15234942710>"
      ]
     },
     "metadata": {},
     "output_type": "display_data"
    }
   ],
   "source": [
    "results = []\n",
    "plt.close('all')\n",
    "fig, ax = plt.subplots()\n",
    "for ii in range(100):# do this 100 times\n",
    "    data_subset = np.random.choice(data_normal,size=int(data_normal.size*.99),replace=False)\n",
    "    p = stats.ttest_1samp(data_subset,0)\n",
    "    results.append(p)\n",
    "    ax.axvspan(np.mean(data_subset)-np.std(data_subset)/np.sqrt(data_subset.size),\n",
    "               np.mean(data_subset)+np.std(data_subset)/np.sqrt(data_subset.size),\n",
    "              np.mean(data_subset),alpha=0.5)\n",
    "results = np.array(results)\n",
    "ax.axvline(0,color='red',label='p values%.5f+/-%.5f'%(np.mean(results[:,-1]),np.std(results[:,-1])))\n",
    "ax.legend()"
   ]
  },
  {
   "cell_type": "code",
   "execution_count": 55,
   "metadata": {
    "collapsed": false
   },
   "outputs": [
    {
     "name": "stdout",
     "output_type": "stream",
     "text": [
      "using 0.50% of the data and the p values is 0.16532+/-0.17461\n",
      "using 0.51% of the data and the p values is 0.15782+/-0.16850\n",
      "using 0.52% of the data and the p values is 0.16547+/-0.19655\n",
      "using 0.53% of the data and the p values is 0.15600+/-0.18448\n",
      "using 0.54% of the data and the p values is 0.15704+/-0.15269\n",
      "using 0.55% of the data and the p values is 0.15909+/-0.20247\n",
      "using 0.56% of the data and the p values is 0.13480+/-0.16929\n",
      "using 0.57% of the data and the p values is 0.13439+/-0.14184\n",
      "using 0.58% of the data and the p values is 0.13324+/-0.13224\n",
      "using 0.59% of the data and the p values is 0.12186+/-0.14304\n",
      "using 0.60% of the data and the p values is 0.13372+/-0.15479\n",
      "using 0.61% of the data and the p values is 0.11408+/-0.12382\n",
      "using 0.62% of the data and the p values is 0.14276+/-0.19463\n",
      "using 0.63% of the data and the p values is 0.11617+/-0.11335\n",
      "using 0.64% of the data and the p values is 0.11433+/-0.12008\n",
      "using 0.65% of the data and the p values is 0.11513+/-0.13499\n",
      "using 0.66% of the data and the p values is 0.10974+/-0.11994\n",
      "using 0.67% of the data and the p values is 0.11569+/-0.16650\n",
      "using 0.68% of the data and the p values is 0.09497+/-0.10848\n",
      "using 0.69% of the data and the p values is 0.09644+/-0.11135\n",
      "using 0.70% of the data and the p values is 0.08993+/-0.08338\n",
      "using 0.71% of the data and the p values is 0.09035+/-0.10190\n",
      "using 0.72% of the data and the p values is 0.06990+/-0.07237\n",
      "using 0.73% of the data and the p values is 0.07723+/-0.07129\n",
      "using 0.74% of the data and the p values is 0.06825+/-0.07818\n",
      "using 0.75% of the data and the p values is 0.07846+/-0.06933\n",
      "using 0.76% of the data and the p values is 0.06036+/-0.06630\n",
      "using 0.77% of the data and the p values is 0.06911+/-0.08362\n",
      "using 0.78% of the data and the p values is 0.06200+/-0.05720\n",
      "using 0.79% of the data and the p values is 0.05314+/-0.04684\n",
      "using 0.80% of the data and the p values is 0.05405+/-0.06691\n",
      "using 0.81% of the data and the p values is 0.05138+/-0.05106\n",
      "using 0.82% of the data and the p values is 0.05449+/-0.05778\n",
      "using 0.83% of the data and the p values is 0.05293+/-0.04909\n",
      "using 0.84% of the data and the p values is 0.04574+/-0.05025\n",
      "using 0.85% of the data and the p values is 0.04588+/-0.03707\n",
      "using 0.86% of the data and the p values is 0.04039+/-0.03564\n",
      "using 0.87% of the data and the p values is 0.04830+/-0.04468\n",
      "using 0.88% of the data and the p values is 0.03734+/-0.03119\n",
      "using 0.89% of the data and the p values is 0.03622+/-0.03235\n"
     ]
    }
   ],
   "source": [
    "for portion in np.arange(0.5,0.9,0.01):\n",
    "    results = []\n",
    "    for ii in range(100):# do this 100 times\n",
    "        data_subset = np.random.choice(data_normal,size=int(data_normal.size*portion),replace=False)\n",
    "        p = stats.ttest_1samp(data_subset,0)\n",
    "        results.append(p)\n",
    "        ax.axvspan(np.mean(data_subset)+np.std(data_subset),np.mean(data_subset)+np.std(data_subset),\n",
    "                  np.mean(data_subset))\n",
    "    results = np.array(results)\n",
    "    print('using %.2f%% of the data and the p values is %.5f+/-%.5f'%(portion,np.mean(results[:,-1]),np.std(results[:,-1])))"
   ]
  },
  {
   "cell_type": "markdown",
   "metadata": {
    "collapsed": true
   },
   "source": [
    "# now let's do the extract same thing with data from different distributions"
   ]
  },
  {
   "cell_type": "code",
   "execution_count": 42,
   "metadata": {
    "collapsed": false
   },
   "outputs": [
    {
     "data": {
      "image/png": "[encoded data removed]",
      "text/plain": [
       "<matplotlib.figure.Figure at 0x15234e50128>"
      ]
     },
     "metadata": {},
     "output_type": "display_data"
    }
   ],
   "source": [
    "# make beta distributed data whose mean is close to 0\n",
    "data = np.random.beta(0.8,0.5,size=200)-0.55\n",
    "_=plt.hist(data)\n",
    "_=plt.axvline(0,label='null hypothesis')\n",
    "_=plt.axvline(np.mean(data),color='red',label='sample mean')\n",
    "_=plt.axvspan(np.mean(data)-np.std(data)/np.sqrt(data.size),\n",
    "             np.mean(data)+np.std(data)/np.sqrt(data.size),\n",
    "             color='red',alpha=0.5)"
   ]
  },
  {
   "cell_type": "code",
   "execution_count": 43,
   "metadata": {
    "collapsed": false
   },
   "outputs": [
    {
     "data": {
      "text/plain": [
       "Ttest_1sampResult(statistic=1.8465325435356308, pvalue=0.066299957272658291)"
      ]
     },
     "execution_count": 43,
     "metadata": {},
     "output_type": "execute_result"
    }
   ],
   "source": [
    "stats.ttest_1samp(data,0)"
   ]
  },
  {
   "cell_type": "code",
   "execution_count": 45,
   "metadata": {
    "collapsed": false
   },
   "outputs": [
    {
     "data": {
      "text/plain": [
       "WilcoxonResult(statistic=8649.0, pvalue=0.087366066309864279)"
      ]
     },
     "execution_count": 45,
     "metadata": {},
     "output_type": "execute_result"
    }
   ],
   "source": [
    "stats.wilcoxon(data)"
   ]
  },
  {
   "cell_type": "code",
   "execution_count": 51,
   "metadata": {
    "collapsed": false
   },
   "outputs": [
    {
     "data": {
      "text/plain": [
       "<matplotlib.legend.Legend at 0x1523669e550>"
      ]
     },
     "execution_count": 51,
     "metadata": {},
     "output_type": "execute_result"
    },
    {
     "data": {
      "image/png": "[encoded data removed]",
      "text/plain": [
       "<matplotlib.figure.Figure at 0x1523669e5f8>"
      ]
     },
     "metadata": {},
     "output_type": "display_data"
    }
   ],
   "source": [
    "results = []\n",
    "plt.close('all')\n",
    "fig, ax = plt.subplots()\n",
    "for ii in range(100):# do this 100 times\n",
    "    data_subset = np.random.choice(data,size=int(data_normal.size*.99),replace=False)\n",
    "    p = stats.ttest_1samp(data_subset,0)\n",
    "    results.append(p)\n",
    "    ax.axvspan(np.mean(data_subset)-np.std(data_subset)/np.sqrt(data_subset.size),\n",
    "               np.mean(data_subset)+np.std(data_subset)/np.sqrt(data_subset.size),\n",
    "              np.mean(data_subset),alpha=0.2)\n",
    "results = np.array(results)\n",
    "ax.axvline(0,color='red',label='p values%.5f+/-%.5f'%(np.mean(results[:,-1]),np.std(results[:,-1])),lw=2,alpha=1)\n",
    "ax.set(xlim=(-0.01,0.08))\n",
    "ax.legend()"
   ]
  },
  {
   "cell_type": "code",
   "execution_count": 54,
   "metadata": {
    "collapsed": false
   },
   "outputs": [
    {
     "name": "stdout",
     "output_type": "stream",
     "text": [
      "using 0.50% of the data and the p values is 0.18119+/-0.20585\n",
      "using 0.51% of the data and the p values is 0.16288+/-0.19953\n",
      "using 0.52% of the data and the p values is 0.14445+/-0.15530\n",
      "using 0.53% of the data and the p values is 0.12955+/-0.15401\n",
      "using 0.54% of the data and the p values is 0.13575+/-0.12568\n",
      "using 0.55% of the data and the p values is 0.12583+/-0.13190\n",
      "using 0.56% of the data and the p values is 0.15660+/-0.18042\n",
      "using 0.57% of the data and the p values is 0.16068+/-0.15912\n",
      "using 0.58% of the data and the p values is 0.14275+/-0.13715\n",
      "using 0.59% of the data and the p values is 0.12442+/-0.13453\n",
      "using 0.60% of the data and the p values is 0.08610+/-0.11482\n",
      "using 0.61% of the data and the p values is 0.12974+/-0.14416\n",
      "using 0.62% of the data and the p values is 0.14554+/-0.15998\n",
      "using 0.63% of the data and the p values is 0.10270+/-0.10981\n",
      "using 0.64% of the data and the p values is 0.13326+/-0.13702\n",
      "using 0.65% of the data and the p values is 0.11287+/-0.12008\n",
      "using 0.66% of the data and the p values is 0.11948+/-0.13487\n",
      "using 0.67% of the data and the p values is 0.12203+/-0.12217\n",
      "using 0.68% of the data and the p values is 0.12034+/-0.14346\n",
      "using 0.69% of the data and the p values is 0.07950+/-0.07737\n",
      "using 0.70% of the data and the p values is 0.07324+/-0.08164\n",
      "using 0.71% of the data and the p values is 0.08313+/-0.09013\n",
      "using 0.72% of the data and the p values is 0.06756+/-0.07451\n",
      "using 0.73% of the data and the p values is 0.08458+/-0.08491\n",
      "using 0.74% of the data and the p values is 0.07556+/-0.08071\n",
      "using 0.75% of the data and the p values is 0.08801+/-0.07788\n",
      "using 0.76% of the data and the p values is 0.06053+/-0.07027\n",
      "using 0.77% of the data and the p values is 0.06372+/-0.07916\n",
      "using 0.78% of the data and the p values is 0.05923+/-0.05478\n",
      "using 0.79% of the data and the p values is 0.05313+/-0.05154\n",
      "using 0.80% of the data and the p values is 0.05317+/-0.05886\n",
      "using 0.81% of the data and the p values is 0.05662+/-0.07739\n",
      "using 0.82% of the data and the p values is 0.05288+/-0.05600\n",
      "using 0.83% of the data and the p values is 0.04774+/-0.04921\n",
      "using 0.84% of the data and the p values is 0.05432+/-0.05746\n",
      "using 0.85% of the data and the p values is 0.04824+/-0.06815\n",
      "using 0.86% of the data and the p values is 0.03497+/-0.02576\n",
      "using 0.87% of the data and the p values is 0.04262+/-0.03674\n",
      "using 0.88% of the data and the p values is 0.04090+/-0.03284\n",
      "using 0.89% of the data and the p values is 0.04151+/-0.03271\n"
     ]
    }
   ],
   "source": [
    "for portion in np.arange(0.5,0.9,0.01):\n",
    "    results = []\n",
    "    for ii in range(100):# do this 100 times\n",
    "        data_subset = np.random.choice(data_normal,size=int(data.size*portion),replace=False)\n",
    "        p = stats.ttest_1samp(data_subset,0)\n",
    "        results.append(p)\n",
    "        ax.axvspan(np.mean(data_subset)+np.std(data_subset),np.mean(data_subset)+np.std(data_subset),\n",
    "                  np.mean(data_subset))\n",
    "    results = np.array(results)\n",
    "    print('using %.2f%% of the data and the p values is %.5f+/-%.5f'%(portion,np.mean(results[:,-1]),np.std(results[:,-1])))"
   ]
  },
  {
   "cell_type": "code",
   "execution_count": null,
   "metadata": {
    "collapsed": true
   },
   "outputs": [],
   "source": []
  }
 ],
 "metadata": {
  "anaconda-cloud": {},
  "kernelspec": {
   "display_name": "Python [Root]",
   "language": "python",
   "name": "Python [Root]"
  },
  "language_info": {
   "codemirror_mode": {
    "name": "ipython",
    "version": 3
   },
   "file_extension": ".py",
   "mimetype": "text/x-python",
   "name": "python",
   "nbconvert_exporter": "python",
   "pygments_lexer": "ipython3",
   "version": "3.5.1"
  }
 },
 "nbformat": 4,
 "nbformat_minor": 0
}
