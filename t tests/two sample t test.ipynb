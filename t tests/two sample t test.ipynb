{
 "cells": [
  {
   "cell_type": "code",
   "execution_count": 2,
   "metadata": {
    "collapsed": false
   },
   "outputs": [],
   "source": [
    "import numpy as np\n",
    "import random\n",
    "import scipy.stats as stats\n",
    "import matplotlib.pyplot as plt\n",
    "%matplotlib inline"
   ]
  },
  {
   "cell_type": "markdown",
   "metadata": {},
   "source": [
    "# let's make some data"
   ]
  },
  {
   "cell_type": "code",
   "execution_count": 37,
   "metadata": {
    "collapsed": false
   },
   "outputs": [
    {
     "data": {
      "text/plain": [
       "<matplotlib.legend.Legend at 0x18a15bf79b0>"
      ]
     },
     "execution_count": 37,
     "metadata": {},
     "output_type": "execute_result"
    },
    {
     "data": {
      "image/png": "[encoded data removed]",
      "text/plain": [
       "<matplotlib.figure.Figure at 0x18a15b645f8>"
      ]
     },
     "metadata": {},
     "output_type": "display_data"
    }
   ],
   "source": [
    "a = np.random.normal(50.,7.4,size=100)\n",
    "b = np.random.normal(53.5,15.9,size=200)\n",
    "fig,ax = plt.subplots()\n",
    "ax.hist(a,color='blue',alpha=0.1)\n",
    "ax.hist(b,color='red',alpha=0.1)\n",
    "ax.axvspan(a.mean()-a.std()/np.sqrt(a.size),a.mean()+a.std()/np.sqrt(a.size),color='blue',alpha=0.7,label='sample a')\n",
    "ax.axvspan(b.mean()-b.std()/np.sqrt(b.size),b.mean()+b.std()/np.sqrt(b.size),color='red', alpha=0.7,label='sample b')\n",
    "ax.legend()"
   ]
  },
  {
   "cell_type": "markdown",
   "metadata": {},
   "source": [
    "## parametric independent t test with equal variance assumption"
   ]
  },
  {
   "cell_type": "code",
   "execution_count": 38,
   "metadata": {
    "collapsed": false
   },
   "outputs": [
    {
     "data": {
      "text/plain": [
       "Ttest_indResult(statistic=-1.9268281984810618, pvalue=0.054951711126329676)"
      ]
     },
     "execution_count": 38,
     "metadata": {},
     "output_type": "execute_result"
    }
   ],
   "source": [
    "stats.ttest_ind(a,b,equal_var=True,)"
   ]
  },
  {
   "cell_type": "markdown",
   "metadata": {},
   "source": [
    "## parametric independent t test without equal variance assumption"
   ]
  },
  {
   "cell_type": "code",
   "execution_count": 39,
   "metadata": {
    "collapsed": false
   },
   "outputs": [
    {
     "data": {
      "text/plain": [
       "Ttest_indResult(statistic=-2.3789275597396289, pvalue=0.017993397773308446)"
      ]
     },
     "execution_count": 39,
     "metadata": {},
     "output_type": "execute_result"
    }
   ],
   "source": [
    "stats.ttest_ind(a,b,equal_var=False,)"
   ]
  },
  {
   "cell_type": "markdown",
   "metadata": {},
   "source": [
    "## nonparametric t test using scipy"
   ]
  },
  {
   "cell_type": "code",
   "execution_count": 41,
   "metadata": {
    "collapsed": false
   },
   "outputs": [
    {
     "data": {
      "text/plain": [
       "MannwhitneyuResult(statistic=8408.0, pvalue=0.012320683494319057)"
      ]
     },
     "execution_count": 41,
     "metadata": {},
     "output_type": "execute_result"
    }
   ],
   "source": [
    "stats.mannwhitneyu(a,b,)"
   ]
  },
  {
   "cell_type": "markdown",
   "metadata": {},
   "source": [
    "## nonparametric t test by permutation test"
   ]
  },
  {
   "cell_type": "code",
   "execution_count": 54,
   "metadata": {
    "collapsed": false
   },
   "outputs": [
    {
     "data": {
      "text/plain": [
       "<matplotlib.legend.Legend at 0x18a1730bb70>"
      ]
     },
     "execution_count": 54,
     "metadata": {},
     "output_type": "execute_result"
    },
    {
     "data": {
      "image/png": "[encoded data removed]",
      "text/plain": [
       "<matplotlib.figure.Figure at 0x18a1730bb38>"
      ]
     },
     "metadata": {},
     "output_type": "display_data"
    }
   ],
   "source": [
    "fig, ax = plt.subplots()\n",
    "difference = np.mean(a) - np.mean(b)\n",
    "results=[]\n",
    "for ii in range(1000):\n",
    "    c = np.concatenate([a,b])\n",
    "    random.shuffle(c)\n",
    "    new_a = c[:100]\n",
    "    new_b = c[100:]\n",
    "    new_diff = new_a.mean() - new_b.mean()\n",
    "    results.append(new_diff)\n",
    "results = np.array(results)\n",
    "ax.hist(results,color='blue',alpha=0.6,bins=20)\n",
    "p = min([stats.percentileofscore(results,difference,)/100,1-stats.percentileofscore(results,difference,)/100])\n",
    "ax.axvline(difference,color='red',label='sample differences\\np value: %.2f'%p)\n",
    "ax.legend()"
   ]
  },
  {
   "cell_type": "markdown",
   "metadata": {},
   "source": [
    "## redo the permutation test multiple times and sample the distribution of the p values"
   ]
  },
  {
   "cell_type": "code",
   "execution_count": 57,
   "metadata": {
    "collapsed": false
   },
   "outputs": [
    {
     "data": {
      "text/plain": [
       "<matplotlib.legend.Legend at 0x18a1750c048>"
      ]
     },
     "execution_count": 57,
     "metadata": {},
     "output_type": "execute_result"
    },
    {
     "data": {
      "image/png": "[encoded data removed]",
      "text/plain": [
       "<matplotlib.figure.Figure at 0x18a174b7b70>"
      ]
     },
     "metadata": {},
     "output_type": "display_data"
    }
   ],
   "source": [
    "results = []\n",
    "for ii in range(50):\n",
    "    temp=[]\n",
    "    for jj in range(1000):\n",
    "        c = np.concatenate([a,b])\n",
    "        random.shuffle(c)\n",
    "        new_a = c[:100]\n",
    "        new_b = c[100:]\n",
    "        new_diff = new_a.mean() - new_b.mean()\n",
    "        temp.append(new_diff)\n",
    "    temp = np.array(temp)\n",
    "    p=min([stats.percentileofscore(temp,difference,)/100,1-stats.percentileofscore(temp,difference,)/100])\n",
    "    results.append(p)\n",
    "fig, ax = plt.subplots()\n",
    "ax.hist(results,bins=10,label='p values: %.3f+/-%.3f'%(np.mean(results),np.std(results)))\n",
    "ax.legend(loc='best')"
   ]
  },
  {
   "cell_type": "markdown",
   "metadata": {},
   "source": [
    "# Bayesian stats"
   ]
  },
  {
   "cell_type": "code",
   "execution_count": 58,
   "metadata": {
    "collapsed": true
   },
   "outputs": [],
   "source": [
    "import pymc3 as pm"
   ]
  },
  {
   "cell_type": "code",
   "execution_count": 59,
   "metadata": {
    "collapsed": true
   },
   "outputs": [],
   "source": [
    "c = np.concatenate([a,b])\n",
    "c_m = c.mean()\n",
    "c_s = c.std()*2\n",
    "with pm.Model() as model:\n",
    "    a_mean = pm.Normal('a_mean',c_m,sd=c_s)\n",
    "    b_mean = pm.Normal('b_mean',c_m,sd=c_s)"
   ]
  },
  {
   "cell_type": "code",
   "execution_count": 60,
   "metadata": {
    "collapsed": true
   },
   "outputs": [],
   "source": [
    "sigma_low = 1\n",
    "sigma_high = 15\n",
    "with model:\n",
    "    a_std = pm.Uniform('a_std',lower=sigma_low,\n",
    "                       upper=sigma_high)\n",
    "    b_std = pm.Uniform('b_std',lower=sigma_low,\n",
    "                       upper=sigma_high)"
   ]
  },
  {
   "cell_type": "code",
   "execution_count": 61,
   "metadata": {
    "collapsed": true
   },
   "outputs": [],
   "source": [
    "with model:\n",
    "    v = pm.Exponential('v_minus_one',1/29.) +1"
   ]
  },
  {
   "cell_type": "code",
   "execution_count": 62,
   "metadata": {
    "collapsed": false
   },
   "outputs": [
    {
     "name": "stderr",
     "output_type": "stream",
     "text": [
      "c:\\Anaconda3\\lib\\site-packages\\pymc3\\distributions\\continuous.py:62: UserWarning: The variable specified for nu has negative support for StudentT, likely making it unsuitable for this parameter.\n",
      "  warnings.warn(msg)\n"
     ]
    }
   ],
   "source": [
    "with model:\n",
    "    lambda1=a_std**-2\n",
    "    lambda2=b_std**-2\n",
    "    \n",
    "    aa = pm.StudentT('a',nu=v,mu=a_mean,lam=lambda1,\n",
    "                    observed=a,)\n",
    "    bb = pm.StudentT('b',nu=b_mean,lam=lambda2,\n",
    "                    observed=b)"
   ]
  },
  {
   "cell_type": "code",
   "execution_count": 63,
   "metadata": {
    "collapsed": true
   },
   "outputs": [],
   "source": [
    "with model:\n",
    "    diff_of_means = pm.Deterministic('difference of means',\n",
    "                                    a_mean-b_mean)\n",
    "    diff_of_stds = pm.Deterministic('difference of stds',\n",
    "                                   a_std-b_std)\n",
    "    effect_size = pm.Deterministic('effect size',\n",
    "                                  diff_of_means/np.sqrt((a_std**2+b_std**2)/2))"
   ]
  },
  {
   "cell_type": "code",
   "execution_count": null,
   "metadata": {
    "collapsed": true
   },
   "outputs": [],
   "source": [
    "with model:\n",
    "    trace = pm.sample(2000,init=None)"
   ]
  },
  {
   "cell_type": "code",
   "execution_count": null,
   "metadata": {
    "collapsed": true
   },
   "outputs": [],
   "source": []
  }
 ],
 "metadata": {
  "kernelspec": {
   "display_name": "Python [Root]",
   "language": "python",
   "name": "Python [Root]"
  },
  "language_info": {
   "codemirror_mode": {
    "name": "ipython",
    "version": 3
   },
   "file_extension": ".py",
   "mimetype": "text/x-python",
   "name": "python",
   "nbconvert_exporter": "python",
   "pygments_lexer": "ipython3",
   "version": "3.5.1"
  }
 },
 "nbformat": 4,
 "nbformat_minor": 0
}
