{
 "cells": [
  {
   "cell_type": "code",
   "execution_count": 1,
   "metadata": {},
   "outputs": [],
   "source": [
    "import random\n",
    "import numpy as np\n",
    "import scipy.stats as stats\n",
    "import matplotlib.pyplot as plt\n",
    "%matplotlib inline"
   ]
  },
  {
   "cell_type": "markdown",
   "metadata": {},
   "source": [
    "# Let's make some random data"
   ]
  },
  {
   "cell_type": "code",
   "execution_count": 2,
   "metadata": {},
   "outputs": [
    {
     "data": {
      "image/png": "[encoded data removed]",
      "text/plain": [
       "<matplotlib.figure.Figure at 0x296dd76e710>"
      ]
     },
     "metadata": {},
     "output_type": "display_data"
    }
   ],
   "source": [
    "# normal distribution data, mean = 1.5, std = 0.7\n",
    "data_normal = np.random.normal(0.52, 0.06, size=25)\n",
    "_=plt.hist(data_normal)\n",
    "_=plt.axvline(0.5,color='red',label='null hypothesis')\n",
    "_=plt.axvline(np.mean(data_normal),color='black',label='sample mean')\n",
    "_=plt.legend()"
   ]
  },
  {
   "cell_type": "markdown",
   "metadata": {},
   "source": [
    "## parametric one sample t test with scipy"
   ]
  },
  {
   "cell_type": "code",
   "execution_count": 3,
   "metadata": {},
   "outputs": [
    {
     "data": {
      "text/plain": [
       "Ttest_1sampResult(statistic=1.606474548123608, pvalue=0.1212482642772984)"
      ]
     },
     "execution_count": 3,
     "metadata": {},
     "output_type": "execute_result"
    }
   ],
   "source": [
    "stats.ttest_1samp(data_normal,0.5,)"
   ]
  },
  {
   "cell_type": "markdown",
   "metadata": {},
   "source": [
    "## nonparametric one sample t test (wilcox) with scipy "
   ]
  },
  {
   "cell_type": "code",
   "execution_count": 4,
   "metadata": {},
   "outputs": [
    {
     "data": {
      "text/plain": [
       "WilcoxonResult(statistic=101.0, pvalue=0.10073067103920605)"
      ]
     },
     "execution_count": 4,
     "metadata": {},
     "output_type": "execute_result"
    }
   ],
   "source": [
    "stats.wilcoxon(data_normal-0.5,correction=True)"
   ]
  },
  {
   "cell_type": "markdown",
   "metadata": {},
   "source": [
    "## nonparametric one sample t"
   ]
  },
  {
   "cell_type": "code",
   "execution_count": 5,
   "metadata": {},
   "outputs": [],
   "source": [
    "def resample_ttest(x,baseline=0.5,n_ps=100,n_permutation=5000):\n",
    "    # one tail comparison only\n",
    "    import numpy as np\n",
    "    experiment = np.mean(x) # the mean of the observations in the experiment\n",
    "    experiment_diff = x - np.mean(x) + baseline # shift the mean to the baseline but keep the distribution\n",
    "    newexperiment = np.mean(experiment_diff) # just look at the new mean and make sure it is at the baseline\n",
    "    # simulate/bootstrap null hypothesis distribution\n",
    "    # 1st-D := number of sample same as the experiment\n",
    "    # 2nd-D := within one permutation resamping, we perform resampling same as the experimental samples,\n",
    "    # but also repeat this one sampling n_permutation times\n",
    "    # 3rd-D := repeat 2nd-D n_ps times to obtain a distribution of p values later\n",
    "    temp = np.random.choice(experiment_diff,size=(x.shape[0],n_permutation,n_ps),replace=True)\n",
    "    temp = temp.mean(0)# take the mean over the sames because we only care about the mean of the null distribution\n",
    "    # along each row of the matrix (n_row = n_permutation), we count instances that are greater than the observed mean of the experiment\n",
    "    # compute the proportion, and we get our p values\n",
    "    ps = (np.sum(temp >= np.mean(x),axis=0)+1.) / (n_permutation + 1.)\n",
    "    return ps"
   ]
  },
  {
   "cell_type": "code",
   "execution_count": 6,
   "metadata": {},
   "outputs": [],
   "source": [
    "ps = resample_ttest(data_normal,0.5)"
   ]
  },
  {
   "cell_type": "code",
   "execution_count": 7,
   "metadata": {},
   "outputs": [
    {
     "data": {
      "text/plain": [
       "(array([ 3.,  6.,  9., 17., 16., 14., 11., 16.,  5.,  3.]),\n",
       " array([0.04639072, 0.04775045, 0.04911018, 0.05046991, 0.05182963,\n",
       "        0.05318936, 0.05454909, 0.05590882, 0.05726855, 0.05862827,\n",
       "        0.059988  ]),\n",
       " <a list of 10 Patch objects>)"
      ]
     },
     "execution_count": 7,
     "metadata": {},
     "output_type": "execute_result"
    },
    {
     "data": {
      "image/png": "[encoded data removed]",
      "text/plain": [
       "<matplotlib.figure.Figure at 0x296df7bf3c8>"
      ]
     },
     "metadata": {},
     "output_type": "display_data"
    }
   ],
   "source": [
    "plt.hist(ps)"
   ]
  },
  {
   "cell_type": "markdown",
   "metadata": {
    "collapsed": true
   },
   "source": [
    "# now let's do the extract same thing with data from different distributions"
   ]
  },
  {
   "cell_type": "code",
   "execution_count": 8,
   "metadata": {},
   "outputs": [
    {
     "data": {
      "image/png": "[encoded data removed]",
      "text/plain": [
       "<matplotlib.figure.Figure at 0x296df86f470>"
      ]
     },
     "metadata": {},
     "output_type": "display_data"
    }
   ],
   "source": [
    "# make beta distributed data whose mean is close to 0\n",
    "data = np.random.beta(0.8,0.5,size=20)\n",
    "_=plt.hist(data)\n",
    "_=plt.axvline(0.5,label='null hypothesis')\n",
    "_=plt.axvline(np.mean(data),color='red',label='sample mean')\n",
    "_=plt.axvspan(np.mean(data)-np.std(data)/np.sqrt(data.size),\n",
    "             np.mean(data)+np.std(data)/np.sqrt(data.size),\n",
    "             color='red',alpha=0.5)"
   ]
  },
  {
   "cell_type": "code",
   "execution_count": 9,
   "metadata": {},
   "outputs": [
    {
     "data": {
      "text/plain": [
       "Ttest_1sampResult(statistic=1.5942366685478095, pvalue=0.12738278770674097)"
      ]
     },
     "execution_count": 9,
     "metadata": {},
     "output_type": "execute_result"
    }
   ],
   "source": [
    "stats.ttest_1samp(data,0.5)"
   ]
  },
  {
   "cell_type": "code",
   "execution_count": 10,
   "metadata": {},
   "outputs": [
    {
     "data": {
      "text/plain": [
       "WilcoxonResult(statistic=64.0, pvalue=0.12585852473931722)"
      ]
     },
     "execution_count": 10,
     "metadata": {},
     "output_type": "execute_result"
    }
   ],
   "source": [
    "stats.wilcoxon(data-0.5)"
   ]
  },
  {
   "cell_type": "code",
   "execution_count": 11,
   "metadata": {},
   "outputs": [
    {
     "data": {
      "text/plain": [
       "(array([ 5.,  8., 14., 16., 19., 20., 11.,  5.,  0.,  2.]),\n",
       " array([0.039992  , 0.04155169, 0.04311138, 0.04467107, 0.04623075,\n",
       "        0.04779044, 0.04935013, 0.05090982, 0.05246951, 0.05402919,\n",
       "        0.05558888]),\n",
       " <a list of 10 Patch objects>)"
      ]
     },
     "execution_count": 11,
     "metadata": {},
     "output_type": "execute_result"
    },
    {
     "data": {
      "image/png": "[encoded data removed]",
      "text/plain": [
       "<matplotlib.figure.Figure at 0x296df8789b0>"
      ]
     },
     "metadata": {},
     "output_type": "display_data"
    }
   ],
   "source": [
    "ps = resample_ttest(data,0.5)\n",
    "plt.hist(ps)"
   ]
  },
  {
   "cell_type": "code",
   "execution_count": null,
   "metadata": {},
   "outputs": [],
   "source": []
  }
 ],
 "metadata": {
  "anaconda-cloud": {},
  "kernelspec": {
   "display_name": "Python 3",
   "language": "python",
   "name": "python3"
  },
  "language_info": {
   "codemirror_mode": {
    "name": "ipython",
    "version": 3
   },
   "file_extension": ".py",
   "mimetype": "text/x-python",
   "name": "python",
   "nbconvert_exporter": "python",
   "pygments_lexer": "ipython3",
   "version": "3.5.2"
  }
 },
 "nbformat": 4,
 "nbformat_minor": 1
}
